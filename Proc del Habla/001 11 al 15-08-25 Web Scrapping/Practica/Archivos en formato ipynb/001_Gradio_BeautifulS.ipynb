{
  "nbformat": 4,
  "nbformat_minor": 0,
  "metadata": {
    "colab": {
      "provenance": []
    },
    "kernelspec": {
      "name": "python3",
      "display_name": "Python 3"
    },
    "language_info": {
      "name": "python"
    }
  },
  "cells": [
    {
      "cell_type": "code",
      "source": [
        "# ================================\n",
        "# 🔹 INSTALACIÓN E IMPORTACIÓN\n",
        "# ================================\n",
        "\n",
        "# Instalamos Gradio si no está presente\n",
        "!pip install gradio -q\n",
        "\n",
        "# Importamos Gradio para crear interfaces web simples\n",
        "import gradio as gr\n",
        "\n",
        "# Importamos BeautifulSoup para parsear HTML (procesamiento de texto web)\n",
        "from bs4 import BeautifulSoup"
      ],
      "metadata": {
        "id": "tl_38P5CbyuX"
      },
      "execution_count": null,
      "outputs": []
    },
    {
      "cell_type": "code",
      "source": [
        "# ================================\n",
        "# 🟩 EJEMPLO 1: Saludo simple con texto\n",
        "# ================================\n",
        "\n",
        "# Función básica que saluda al usuario\n",
        "def bienvenida(name):\n",
        "    return \"Hola \" + name\n",
        "\n",
        "# Creamos una interfaz con un cuadro de texto como entrada y salida de texto\n",
        "bienvenido = gr.Interface(fn=bienvenida, inputs=\"text\", outputs=\"text\")\n",
        "\n",
        "# Lanzamos la interfaz web\n",
        "bienvenido.launch()"
      ],
      "metadata": {
        "colab": {
          "base_uri": "https://localhost:8080/",
          "height": 646
        },
        "id": "Bp2Pu-45cIaZ",
        "outputId": "bb8cfb67-850d-44b4-ee04-2e526a87e45a"
      },
      "execution_count": null,
      "outputs": [
        {
          "output_type": "stream",
          "name": "stdout",
          "text": [
            "It looks like you are running Gradio on a hosted Jupyter notebook, which requires `share=True`. Automatically setting `share=True` (you can turn this off by setting `share=False` in `launch()` explicitly).\n",
            "\n",
            "Colab notebook detected. To show errors in colab notebook, set debug=True in launch()\n",
            "* Running on public URL: https://c03afad7d82948a150.gradio.live\n",
            "\n",
            "This share link expires in 1 week. For free permanent hosting and GPU upgrades, run `gradio deploy` from the terminal in the working directory to deploy to Hugging Face Spaces (https://huggingface.co/spaces)\n"
          ]
        },
        {
          "output_type": "display_data",
          "data": {
            "text/plain": [
              "<IPython.core.display.HTML object>"
            ],
            "text/html": [
              "<div><iframe src=\"https://c03afad7d82948a150.gradio.live\" width=\"100%\" height=\"500\" allow=\"autoplay; camera; microphone; clipboard-read; clipboard-write;\" frameborder=\"0\" allowfullscreen></iframe></div>"
            ]
          },
          "metadata": {}
        },
        {
          "output_type": "execute_result",
          "data": {
            "text/plain": []
          },
          "metadata": {},
          "execution_count": 2
        }
      ]
    },
    {
      "cell_type": "code",
      "source": [
        "# ================================\n",
        "# 🟩 EJEMPLO 2: Saludo con intensidad usando slider\n",
        "# ================================\n",
        "\n",
        "# Saludo que repite el mensaje dependiendo del valor del slider\n",
        "def saludo(nombre, intensidad):\n",
        "    return \"Hola, \" + nombre + \"!\" * int(intensidad)\n",
        "\n",
        "# Interfaz con dos entradas: texto y slider, y una salida de texto\n",
        "demo = gr.Interface(\n",
        "    fn=saludo,\n",
        "    inputs=[\"text\", \"slider\"],\n",
        "    outputs=\"text\",\n",
        ")\n",
        "\n",
        "demo.launch()"
      ],
      "metadata": {
        "colab": {
          "base_uri": "https://localhost:8080/",
          "height": 646
        },
        "id": "P73KMM7wc3C3",
        "outputId": "432992fa-fb11-4a9d-b02c-c4eac24a3076"
      },
      "execution_count": null,
      "outputs": [
        {
          "output_type": "stream",
          "name": "stdout",
          "text": [
            "It looks like you are running Gradio on a hosted Jupyter notebook, which requires `share=True`. Automatically setting `share=True` (you can turn this off by setting `share=False` in `launch()` explicitly).\n",
            "\n",
            "Colab notebook detected. To show errors in colab notebook, set debug=True in launch()\n",
            "* Running on public URL: https://f23ce040c311f0cd5a.gradio.live\n",
            "\n",
            "This share link expires in 1 week. For free permanent hosting and GPU upgrades, run `gradio deploy` from the terminal in the working directory to deploy to Hugging Face Spaces (https://huggingface.co/spaces)\n"
          ]
        },
        {
          "output_type": "display_data",
          "data": {
            "text/plain": [
              "<IPython.core.display.HTML object>"
            ],
            "text/html": [
              "<div><iframe src=\"https://f23ce040c311f0cd5a.gradio.live\" width=\"100%\" height=\"500\" allow=\"autoplay; camera; microphone; clipboard-read; clipboard-write;\" frameborder=\"0\" allowfullscreen></iframe></div>"
            ]
          },
          "metadata": {}
        },
        {
          "output_type": "execute_result",
          "data": {
            "text/plain": []
          },
          "metadata": {},
          "execution_count": 3
        }
      ]
    },
    {
      "cell_type": "code",
      "source": [
        "# ================================\n",
        "# 🟩 EJEMPLO 3: Textbox personalizado con etiquetas\n",
        "# ================================\n",
        "\n",
        "# Función simple de saludo en inglés\n",
        "def greet(name):\n",
        "    return \"Hello \" + name\n",
        "\n",
        "# Componente Textbox personalizado\n",
        "textbox = gr.Textbox(\n",
        "    label=\"Type your name here:\",\n",
        "    placeholder=\"John Doe\",\n",
        "    lines=2\n",
        ")\n",
        "\n",
        "# Interfaz con un textbox más configurable\n",
        "gr.Interface(fn=greet, inputs=textbox, outputs=\"text\").launch()\n",
        "\n"
      ],
      "metadata": {
        "colab": {
          "base_uri": "https://localhost:8080/",
          "height": 646
        },
        "id": "7g2uX38Ac7W7",
        "outputId": "f091211f-2349-4370-a340-2e07865bc3f8"
      },
      "execution_count": null,
      "outputs": [
        {
          "output_type": "stream",
          "name": "stdout",
          "text": [
            "It looks like you are running Gradio on a hosted Jupyter notebook, which requires `share=True`. Automatically setting `share=True` (you can turn this off by setting `share=False` in `launch()` explicitly).\n",
            "\n",
            "Colab notebook detected. To show errors in colab notebook, set debug=True in launch()\n",
            "* Running on public URL: https://f0bf4d3e13e5533b2f.gradio.live\n",
            "\n",
            "This share link expires in 1 week. For free permanent hosting and GPU upgrades, run `gradio deploy` from the terminal in the working directory to deploy to Hugging Face Spaces (https://huggingface.co/spaces)\n"
          ]
        },
        {
          "output_type": "display_data",
          "data": {
            "text/plain": [
              "<IPython.core.display.HTML object>"
            ],
            "text/html": [
              "<div><iframe src=\"https://f0bf4d3e13e5533b2f.gradio.live\" width=\"100%\" height=\"500\" allow=\"autoplay; camera; microphone; clipboard-read; clipboard-write;\" frameborder=\"0\" allowfullscreen></iframe></div>"
            ]
          },
          "metadata": {}
        },
        {
          "output_type": "execute_result",
          "data": {
            "text/plain": []
          },
          "metadata": {},
          "execution_count": 5
        }
      ]
    },
    {
      "cell_type": "code",
      "execution_count": null,
      "metadata": {
        "colab": {
          "base_uri": "https://localhost:8080/"
        },
        "id": "RAV5PoERbvTD",
        "outputId": "49aab407-aa57-4d88-e7fb-b32bceb42b12"
      },
      "outputs": [
        {
          "output_type": "stream",
          "name": "stdout",
          "text": [
            "\n",
            "<html>\n",
            "<head>\n",
            "<title>Mi Página de Ejemplo</title>\n",
            "</head>\n",
            "<body>\n",
            "<h1>Título Principal</h1>\n",
            "<p>Este es un párrafo.</p>\n",
            "<a href=\"https://www.ejemplo.com\">Enlace a Ejemplo</a>\n",
            "</body>\n",
            "</html>\n",
            "\n",
            "<title>Mi Página de Ejemplo</title>\n",
            "Mi Página de Ejemplo\n",
            "<p>Este es un párrafo.</p>\n",
            "Este es un párrafo.\n",
            "<html>\n",
            " <head>\n",
            "  <title>\n",
            "   Mi Página de Ejemplo\n",
            "  </title>\n",
            " </head>\n",
            " <body>\n",
            "  <h1>\n",
            "   Título Principal\n",
            "  </h1>\n",
            "  <p>\n",
            "   Este es un párrafo.\n",
            "  </p>\n",
            "  <a href=\"https://www.ejemplo.com\">\n",
            "   Enlace a Ejemplo\n",
            "  </a>\n",
            " </body>\n",
            "</html>\n",
            "\n",
            "https://www.ejemplo.com\n",
            "['enlace-principal']\n"
          ]
        }
      ],
      "source": [
        "# ================================\n",
        "# 🌐 USO DE BEAUTIFULSOUP\n",
        "# ================================\n",
        "\n",
        "# HTML de ejemplo\n",
        "html = \"\"\"\n",
        "<html>\n",
        "<head>\n",
        "  <title>Mi Página de Ejemplo</title>\n",
        "</head>\n",
        "<body>\n",
        "  <h1>Título Principal</h1>\n",
        "  <p>Este es un párrafo.</p>\n",
        "  <a href=\"https://www.ejemplo.com\">Enlace a Ejemplo</a>\n",
        "</body>\n",
        "</html>\n",
        "\"\"\"\n",
        "\n",
        "# Creamos el objeto BeautifulSoup para parsear el HTML\n",
        "soup = BeautifulSoup(html, 'html.parser')\n",
        "\n",
        "# Imprimimos todo el objeto parseado\n",
        "print(soup)\n",
        "\n",
        "# ================================\n",
        "# 📌 Acceder a etiquetas específicas\n",
        "# ================================\n",
        "\n",
        "titulo = soup.title\n",
        "print(titulo)       # <title>Mi Página de Ejemplo</title>\n",
        "print(titulo.text)  # Mi Página de Ejemplo\n",
        "\n",
        "parrafo = soup.p\n",
        "print(parrafo)      # <p>Este es un párrafo.</p>\n",
        "print(parrafo.text) # Este es un párrafo.\n",
        "\n",
        "# ================================\n",
        "# 📌 Usar prettify() para visualizar bien el HTML\n",
        "# ================================\n",
        "\n",
        "html = \"\"\"\n",
        "<html><head><title>Mi Página de Ejemplo</title></head><body><h1>Título Principal</h1><p>Este es un párrafo.</p><a href=\"https://www.ejemplo.com\">Enlace a Ejemplo</a></body></html>\n",
        "\"\"\"\n",
        "soup = BeautifulSoup(html, 'html.parser')\n",
        "print(soup.prettify())  # Formato indentado\n",
        "\n",
        "# ================================\n",
        "# 📌 Acceder a atributos de etiquetas\n",
        "# ================================\n",
        "\n",
        "html = \"\"\"\n",
        "<a href=\"https://www.ejemplo.com\" class=\"enlace-principal\">Enlace a Ejemplo</a>\n",
        "\"\"\"\n",
        "\n",
        "soup = BeautifulSoup(html, 'html.parser')\n",
        "\n",
        "enlace = soup.a\n",
        "print(enlace['href'])   # Extrae URL\n",
        "print(enlace['class'])  # Extrae clase CSS\n",
        "\n"
      ]
    }
  ]
}