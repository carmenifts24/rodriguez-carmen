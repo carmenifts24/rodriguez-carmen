{
  "cells": [
    {
      "cell_type": "markdown",
      "metadata": {
        "id": "vh_Bs4XdeRzQ"
      },
      "source": [
        "# Web Scraping con [Beautiful Soup](https://www.crummy.com/software/BeautifulSoup/bs4/doc/), una libreria de python\n",
        "##✅ Objetivo del script\n",
        "\n",
        "📌 Extraer información estructurada desde una página de Stack Overflow, específicamente:\n",
        "\n",
        "El título de la página\n",
        "\n",
        "El contenido de la pregunta principal\n",
        "\n",
        "El texto de la mejor respuesta"
      ]
    },
    {
      "cell_type": "code",
      "source": [
        "# 2. Importamos las bibliotecas\n",
        "# Importamos requests para hacer solicitudes HTTP y BeautifulSoup para analizar el HTML de la página.\n",
        "import requests\n",
        "from bs4 import BeautifulSoup"
      ],
      "metadata": {
        "id": "iBAMi0e6GVEM"
      },
      "execution_count": null,
      "outputs": []
    },
    {
      "cell_type": "code",
      "source": [
        "# 3. Definimos la página web que queremos analizar\n",
        "url = \"https://stackoverflow.com/questions/415511/how-to-get-the-current-time-in-python\"# URL de la página de Stack Overflow desde la cual queremos extraer información."
      ],
      "metadata": {
        "id": "r_6Ko39zGXOH"
      },
      "execution_count": null,
      "outputs": []
    },
    {
      "cell_type": "code",
      "source": [
        "# 4. Obtenemos el contenido de la página web\n",
        "# Realizamos la solicitud HTTP y almacenamos el contenido HTML como texto.\n",
        "\n",
        "pagina = requests.get(url)\n",
        "contenido = pagina.text\n",
        "if pagina.status_code != 200:\n",
        "    print(\"❌ Error al acceder a la página\")"
      ],
      "metadata": {
        "id": "Vky0x1eVGXGg"
      },
      "execution_count": null,
      "outputs": []
    },
    {
      "cell_type": "code",
      "source": [
        "# 5. Creamos el objeto BeautifulSoup para analizar el HTML\n",
        "soup = BeautifulSoup(contenido, 'html.parser')# Creamos el objeto BeautifulSoup para poder navegar el árbol DOM del HTML.\n"
      ],
      "metadata": {
        "id": "1oiv5zeRGW6F"
      },
      "execution_count": null,
      "outputs": []
    },
    {
      "cell_type": "code",
      "source": [
        "# 6. Extraemos información básica\n",
        "# Obtenemos el título de la página\n",
        "# Extraemos el contenido de la etiqueta <title> para obtener el título de la página.\n",
        "\n",
        "print(\"TÍTULO DE LA PÁGINA:\")\n",
        "print(soup.title.text)\n",
        "print(\"-\" * 50)"
      ],
      "metadata": {
        "colab": {
          "base_uri": "https://localhost:8080/"
        },
        "id": "iaQMbVq1Ge8S",
        "outputId": "a3ad0cba-729a-49a5-cd11-a520ce358362"
      },
      "execution_count": null,
      "outputs": [
        {
          "output_type": "stream",
          "name": "stdout",
          "text": [
            "TÍTULO DE LA PÁGINA:\n",
            "datetime - How do I get the current time in Python? - Stack Overflow\n",
            "--------------------------------------------------\n"
          ]
        }
      ]
    },
    {
      "cell_type": "code",
      "source": [
        "# 7. Extraemos la pregunta\n",
        "print(\"\\nPREGUNTA:\")\n",
        "pregunta = soup.find(\"div\", {\"class\": \"question\"})# Buscamos el div principal que contiene la pregunta usando sus clases CSS.\n",
        "texto_pregunta = pregunta.find(\"div\", {\"class\": \"s-prose js-post-body\"})# Luego extraemos solo el cuerpo de la pregunta y lo mostramos limpio.\n",
        "print(texto_pregunta.get_text().strip())\n",
        "print(\"-\" * 50)"
      ],
      "metadata": {
        "colab": {
          "base_uri": "https://localhost:8080/"
        },
        "id": "-mX59zYXGe4M",
        "outputId": "17184766-b1a3-492c-8621-1e653c6e1071"
      },
      "execution_count": null,
      "outputs": [
        {
          "output_type": "stream",
          "name": "stdout",
          "text": [
            "\n",
            "PREGUNTA:\n",
            "How do I get the current time in Python?\n",
            "--------------------------------------------------\n"
          ]
        }
      ]
    },
    {
      "cell_type": "code",
      "source": [
        "# 8. Extraer la mejor respuesta (la primera respuesta visible)\n",
        "\n",
        "print(\"\\nMEJOR RESPUESTA:\")\n",
        "respuesta = soup.find(\"div\", {\"class\": \"answer\"})# Localizamos la primera respuesta disponible en la página.\n",
        "texto_respuesta = respuesta.find(\"div\", {\"class\": \"s-prose js-post-body\"})# Extraemos el texto del cuerpo de esa respuesta.\n",
        "print(texto_respuesta.get_text().strip())"
      ],
      "metadata": {
        "colab": {
          "base_uri": "https://localhost:8080/"
        },
        "id": "J39MsXf-GeyW",
        "outputId": "f5f2ab8d-6f23-4f53-8d43-5160bab1c4b7"
      },
      "execution_count": null,
      "outputs": [
        {
          "output_type": "stream",
          "name": "stdout",
          "text": [
            "\n",
            "MEJOR RESPUESTA:\n",
            "Use datetime:\n",
            ">>> import datetime\n",
            ">>> now = datetime.datetime.now()\n",
            ">>> now\n",
            "datetime.datetime(2009, 1, 6, 15, 8, 24, 78915)\n",
            ">>> print(now)\n",
            "2009-01-06 15:08:24.789150\n",
            "\n",
            "For just the clock time without the date:\n",
            ">>> now.time()\n",
            "datetime.time(15, 8, 24, 78915)\n",
            ">>> print(now.time())\n",
            "15:08:24.789150\n",
            "\n",
            "\n",
            "To save typing, you can import the datetime object from the datetime module:\n",
            ">>> from datetime import datetime\n",
            "\n",
            "Then remove the prefix datetime. from all of the above.\n"
          ]
        }
      ]
    },
    {
      "cell_type": "code",
      "source": [
        "print(\"\\nMEJOR RESPUESTA:\")\n",
        "respuesta = soup.find(\"div\", {\"itemprop\": \"acceptedAnswer\"})# Localizamos la primera respuesta disponible en la página.\n",
        "texto_respuesta = respuesta.find(\"div\", {\"class\": \"s-prose js-post-body\"})# Extraemos el texto del cuerpo de esa respuesta.\n",
        "print(texto_respuesta.get_text().strip())"
      ],
      "metadata": {
        "colab": {
          "base_uri": "https://localhost:8080/"
        },
        "id": "WqnuZ4GrCq4V",
        "outputId": "f85cf78a-c8e5-414c-e590-90865034892e"
      },
      "execution_count": null,
      "outputs": [
        {
          "output_type": "stream",
          "name": "stdout",
          "text": [
            "\n",
            "MEJOR RESPUESTA:\n",
            "Use datetime:\n",
            ">>> import datetime\n",
            ">>> now = datetime.datetime.now()\n",
            ">>> now\n",
            "datetime.datetime(2009, 1, 6, 15, 8, 24, 78915)\n",
            ">>> print(now)\n",
            "2009-01-06 15:08:24.789150\n",
            "\n",
            "For just the clock time without the date:\n",
            ">>> now.time()\n",
            "datetime.time(15, 8, 24, 78915)\n",
            ">>> print(now.time())\n",
            "15:08:24.789150\n",
            "\n",
            "\n",
            "To save typing, you can import the datetime object from the datetime module:\n",
            ">>> from datetime import datetime\n",
            "\n",
            "Then remove the prefix datetime. from all of the above.\n"
          ]
        }
      ]
    }
  ],
  "metadata": {
    "colab": {
      "provenance": []
    },
    "kernelspec": {
      "display_name": "Python 3",
      "language": "python",
      "name": "python3"
    },
    "language_info": {
      "codemirror_mode": {
        "name": "ipython",
        "version": 3
      },
      "file_extension": ".py",
      "mimetype": "text/x-python",
      "name": "python",
      "nbconvert_exporter": "python",
      "pygments_lexer": "ipython3",
      "version": "3.7.4"
    }
  },
  "nbformat": 4,
  "nbformat_minor": 0
}