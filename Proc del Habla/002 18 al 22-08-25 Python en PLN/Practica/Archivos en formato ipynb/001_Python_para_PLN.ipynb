{
  "nbformat": 4,
  "nbformat_minor": 0,
  "metadata": {
    "colab": {
      "provenance": []
    },
    "kernelspec": {
      "name": "python3",
      "display_name": "Python 3"
    },
    "language_info": {
      "name": "python"
    }
  },
  "cells": [
    {
      "cell_type": "markdown",
      "source": [
        "🧑‍🏫 OBJETIVO DIDÁCTICO DE LA ACTIVIDAD PROPUESTA\n",
        "\n",
        "Introducir los fundamentos de Python con aplicaciones prácticas orientadas al procesamiento del lenguaje, desde una visión de ciencias de datos e inteligencia artificial.\n",
        "\n",
        "Esta clase tiene como foco desarrollar:\n",
        "\n",
        "Competencia\t---------------------->Aplicación en PLN\n",
        "\n",
        "Variables y tipos\t------------------->Almacenar y manipular texto\n",
        "\n",
        "Condicionales y operadores-------->Clasificar frases o palabras\n",
        "\n",
        "Estructuras de datos--------------->Representar documentos, vocabularios o frecuencias\n",
        "\n",
        "Bucles y control\t------------------->Recorrer textos palabra por palabra"
      ],
      "metadata": {
        "id": "faKxUol6CFuU"
      }
    },
    {
      "cell_type": "markdown",
      "source": [
        "# Clase 1: Fundamentos de Python 🐍 - Herramientas para Lingüistica Computacional\n",
        "\n",
        "## ¿Qué Haremos Hoy?\n",
        "1.  **Variables:** Las \"cajas\" para guardar información.\n",
        "2.  **Tipos de Datos:** ¿Qué guardamos en esas cajas? (Texto, números, etc.).\n",
        "3.  **Operadores:** Cómo hacer cosas con nuestros datos.\n",
        "4.  **Condicionales:** Cómo hacer que nuestro programa tome decisiones."
      ],
      "metadata": {
        "id": "bMcPd2LD9VwQ"
      }
    },
    {
      "cell_type": "markdown",
      "source": [
        "## 1. Variables: Nuestras \"Cajas\" con Nombre\n",
        "\n",
        "Una variable es simplemente un contenedor donde guardamos un dato para usarlo más tarde. Le damos un nombre para poder referirnos a ella.\n",
        "\n",
        "**Reglas para los nombres:**\n",
        "* No pueden empezar con un número.\n",
        "* No pueden tener espacios (usa `_` en su lugar, como `mi_variable`).\n",
        "* No uses palabras que Python ya reserva para sí mismo (como `print`, `if`, etc.)."
      ],
      "metadata": {
        "id": "zFUI8wiM9nGf"
      }
    },
    {
      "cell_type": "code",
      "execution_count": null,
      "metadata": {
        "id": "cUYvVTt285o9",
        "colab": {
          "base_uri": "https://localhost:8080/"
        },
        "outputId": "975c3bb9-dc90-4eaf-c1fd-dd8ae43d83e0"
      },
      "outputs": [
        {
          "output_type": "stream",
          "name": "stdout",
          "text": [
            "Hola, mundo del PLN!\n"
          ]
        }
      ],
      "source": [
        "saludo = \"Hola, mundo del PLN!\"\n",
        "print(saludo)\n",
        "\n",
        "# Definimos una variable 'saludo' que contiene una cadena de texto (string).\n",
        "# Esta variable podría representar una oración en un corpus textual.\n",
        "# Usamos print() para visualizar el contenido de la variable.\n"
      ]
    },
    {
      "cell_type": "code",
      "source": [
        "saludo_uno = \"Hola Carmen, comencemos a estudiar\""
      ],
      "metadata": {
        "id": "t-zzh_OMapcY"
      },
      "execution_count": null,
      "outputs": []
    },
    {
      "cell_type": "code",
      "source": [
        "print(saludo_uno)"
      ],
      "metadata": {
        "colab": {
          "base_uri": "https://localhost:8080/"
        },
        "id": "A65Rf9rKa5j3",
        "outputId": "361f7d29-442f-41a9-ba2a-ae44b9d97d98"
      },
      "execution_count": null,
      "outputs": [
        {
          "output_type": "stream",
          "name": "stdout",
          "text": [
            "Hola Carmen, comencemos a estudiar\n"
          ]
        }
      ]
    },
    {
      "cell_type": "markdown",
      "source": [
        "## 2. Tipos de Datos: ¿Qué hay dentro de las cajas?\n",
        "\n",
        "No todos los datos son iguales. Python distingue principalmente entre:\n",
        "\n",
        "* **String (`str`):** Texto, siempre entre comillas (`\" \"`). ¡El tipo de dato más importante para nosotros en PLN!\n",
        "* **Integer (`int`):** Números enteros (ej: `10`, `-5`).\n",
        "* **Float (`float`):** Números con decimales (ej: `3.14`).\n",
        "* **Boolean (`bool`):** Representa la verdad. Solo puede ser `True` o `False`.\n",
        "\n",
        "Para saber qué tipo de dato tiene una variable, usamos la función `type()`."
      ],
      "metadata": {
        "id": "O_Rxi4Ei-DXR"
      }
    },
    {
      "cell_type": "code",
      "source": [
        "# Definimos tres variables con distintos tipos de datos:\n",
        "# - 'oracion' es un string (texto)\n",
        "# - 'cantidad_de_palabras' es un entero (int)\n",
        "# - 'es_interesante' es un booleano (bool)\n",
        "# En PLN, es clave saber si estamos tratando con texto, números o valores lógicos.\n",
        "\n",
        "\n",
        "# Variable de tipo String\n",
        "oracion = \"El análisis de texto es fascinante.\"\n",
        "\n",
        "# Variable de tipo Integer\n",
        "cantidad_de_palabras = 6\n",
        "\n",
        "# Variable de tipo Boolean\n",
        "es_interesante = True\n",
        "\n",
        "# Usemos type() para verificar\n",
        "print(type(oracion))\n",
        "print(type(cantidad_de_palabras))\n",
        "print(type(es_interesante))\n",
        "\n"
      ],
      "metadata": {
        "id": "bbpwvq56-EUs",
        "colab": {
          "base_uri": "https://localhost:8080/"
        },
        "outputId": "024b3ea6-ede4-49c2-a21f-41e890300c0d"
      },
      "execution_count": null,
      "outputs": [
        {
          "output_type": "stream",
          "name": "stdout",
          "text": [
            "<class 'str'>\n",
            "<class 'int'>\n",
            "<class 'bool'>\n"
          ]
        }
      ]
    },
    {
      "cell_type": "markdown",
      "source": [
        "> **Nota importante:** ¿Por qué nos importa el tipo de dato? Porque define qué operaciones podemos hacer. Por ejemplo, podemos `sumar` dos números, pero no podemos `dividir` un texto. `type()` es nuestro mejor amigo para no cometer errores."
      ],
      "metadata": {
        "id": "_ZuECWbWCoj2"
      }
    },
    {
      "cell_type": "markdown",
      "source": [
        "## 3. Operadores: Haciendo Cosas con los Datos\n",
        "\n",
        "Podemos combinar y comparar nuestras variables usando operadores.\n",
        "\n",
        "* **Operador `+` con texto:** Une (concatena) dos strings.\n",
        "* **Operadores de comparación (`==`, `!=`):** Preguntan si dos valores son iguales o diferentes. ¡Siempre devuelven un Booleano (`True` o `False`)!"
      ],
      "metadata": {
        "id": "exBYLuph-W_S"
      }
    },
    {
      "cell_type": "code",
      "source": [
        "# Usamos el operador '+' para concatenar (unir) strings.\n",
        "# Esto es muy común en PLN cuando armamos oraciones o tokens.\n",
        "\n",
        "palabra1 = \"procesamiento\"\n",
        "palabra2 = \"lenguaje\"\n",
        "\n",
        "# Unimos las palabras con un espacio en medio\n",
        "frase_completa = palabra1 + \" de \" + palabra2\n",
        "print(frase_completa)"
      ],
      "metadata": {
        "id": "Ou-tiI5F-Xzj",
        "colab": {
          "base_uri": "https://localhost:8080/"
        },
        "outputId": "e5726b70-2267-4342-8a1b-4ef9890a6628"
      },
      "execution_count": null,
      "outputs": [
        {
          "output_type": "stream",
          "name": "stdout",
          "text": [
            "procesamiento de lenguaje\n"
          ]
        }
      ]
    },
    {
      "cell_type": "code",
      "source": [
        "print(palabra1, 'de', palabra2)"
      ],
      "metadata": {
        "colab": {
          "base_uri": "https://localhost:8080/"
        },
        "id": "3xCqL7iOciMp",
        "outputId": "5a33178f-bee0-4283-b28f-656b1ad04f82"
      },
      "execution_count": null,
      "outputs": [
        {
          "output_type": "stream",
          "name": "stdout",
          "text": [
            "procesamiento de lenguaje\n"
          ]
        }
      ]
    },
    {
      "cell_type": "code",
      "source": [
        "palabra3 = \"Procesamiento\""
      ],
      "metadata": {
        "id": "K5KAkst4c_2Q"
      },
      "execution_count": null,
      "outputs": []
    },
    {
      "cell_type": "code",
      "source": [
        "palabra1 == palabra3"
      ],
      "metadata": {
        "colab": {
          "base_uri": "https://localhost:8080/"
        },
        "id": "yfeKFaUbc5EW",
        "outputId": "039d997a-e7a3-4e70-91d4-59f2561f288b"
      },
      "execution_count": null,
      "outputs": [
        {
          "output_type": "execute_result",
          "data": {
            "text/plain": [
              "False"
            ]
          },
          "metadata": {},
          "execution_count": 8
        }
      ]
    },
    {
      "cell_type": "code",
      "source": [
        "# Comparemos dos números\n",
        "numero_a = 10\n",
        "numero_b = 20\n",
        "print(\"¿Son iguales numero_a y numero_b?\")\n",
        "print(numero_a == numero_b) # Esto imprimirá False"
      ],
      "metadata": {
        "id": "jz5Q8KEy-icx",
        "colab": {
          "base_uri": "https://localhost:8080/"
        },
        "outputId": "564670c8-c265-4a01-c595-498aa4651188"
      },
      "execution_count": null,
      "outputs": [
        {
          "output_type": "stream",
          "name": "stdout",
          "text": [
            "¿Son iguales numero_a y numero_b?\n",
            "False\n"
          ]
        }
      ]
    },
    {
      "cell_type": "markdown",
      "source": [
        "## 4. Condicionales: Tomando Decisiones\n",
        "\n",
        "Los condicionales `if`, `elif` y `else` permiten que nuestro programa ejecute cierto código solo si se cumple una condición.\n",
        "\n",
        "La **indentación** (el espacio al principio de la línea) es MUY importante. Le dice a Python qué código pertenece al `if`."
      ],
      "metadata": {
        "id": "w_sby7GP-pUG"
      }
    },
    {
      "cell_type": "code",
      "source": [
        "# Creamos una estructura condicional que responde diferente según la palabra ingresada.\n",
        "# Esto imita procesos de clasificación textual básica: si es \"Python\", decimos algo específico.\n",
        "\n",
        "\n",
        "# Pedimos al usuario que escriba una palabra\n",
        "palabra_usuario = input(\"Escribí una palabra clave (ej: Python): \")\n",
        "\n",
        "# El programa decide qué hacer basándose en la palabra\n",
        "if palabra_usuario == \"Python\":\n",
        "    print(\"¡Genial! Ese es el lenguaje que estamos aprendiendo.\")\n",
        "else:\n",
        "    print(\"Esa es una palabra interesante, ¡pero no es Python!\")"
      ],
      "metadata": {
        "id": "V8Bh9fCP-o6F",
        "colab": {
          "base_uri": "https://localhost:8080/"
        },
        "outputId": "0ab9fa65-8f87-4a43-9686-30999732f18a"
      },
      "execution_count": null,
      "outputs": [
        {
          "output_type": "stream",
          "name": "stdout",
          "text": [
            "Escribí una palabra clave (ej: Python): Carmen\n",
            "Esa es una palabra interesante, ¡pero no es Python!\n"
          ]
        }
      ]
    },
    {
      "cell_type": "code",
      "source": [
        "variable_tmp = float(input('Ingresá un numero del 1 al 10: '))"
      ],
      "metadata": {
        "colab": {
          "base_uri": "https://localhost:8080/"
        },
        "id": "YZ0jNGhHdrKA",
        "outputId": "dbc85db7-a29b-4313-fb2f-634310d019f2"
      },
      "execution_count": null,
      "outputs": [
        {
          "name": "stdout",
          "output_type": "stream",
          "text": [
            "Ingresá un numero del 1 al 10: 5\n"
          ]
        }
      ]
    },
    {
      "cell_type": "code",
      "source": [
        "type(variable_tmp)"
      ],
      "metadata": {
        "colab": {
          "base_uri": "https://localhost:8080/"
        },
        "id": "w9Mznftcd2kE",
        "outputId": "4f974979-aa7a-4aac-cee8-6eb54323b21f"
      },
      "execution_count": null,
      "outputs": [
        {
          "output_type": "execute_result",
          "data": {
            "text/plain": [
              "float"
            ]
          },
          "metadata": {},
          "execution_count": 12
        }
      ]
    },
    {
      "cell_type": "markdown",
      "source": [
        "## Ejercicio Práctico 1: Analizador Simple de Frases\n",
        "\n",
        "> Añadir blockquote\n",
        "\n",
        "\n",
        "\n",
        "¡Es hora de poner a prueba lo que aprendimos! Vamos a crear un programa que analice una frase que ingrese el usuario y nos diga algunas cosas sobre ella.\n",
        "\n",
        "**Consigna:**\n",
        "\n",
        "1.  Pedí al usuario que ingrese una frase usando `input()`.\n",
        "2.  Verifica si la palabra \"Python\" está en la frase.\n",
        "3.  Verifica si la frase es corta (menos de 20 caracteres) o larga.\n",
        "4.  Imprimí un mensaje diferente para cada caso."
      ],
      "metadata": {
        "id": "h7g9LYwVC24X"
      }
    },
    {
      "cell_type": "code",
      "source": [
        "# 1. Pedí al usuario que ingrese una frase\n",
        "frase_usuario = input(\"Por favor, ingresa una frase: \")\n",
        "\n",
        "# Medí la longitud de la frase\n",
        "longitud_frase = len(frase_usuario)\n",
        "\n",
        "print(f\"La frase tiene {longitud_frase} caracteres.\")"
      ],
      "metadata": {
        "id": "lKxdo_nhDJbu",
        "colab": {
          "base_uri": "https://localhost:8080/"
        },
        "outputId": "3056a633-81d0-4802-b7b5-73f67e74b17e"
      },
      "execution_count": null,
      "outputs": [
        {
          "output_type": "stream",
          "name": "stdout",
          "text": [
            "Por favor, ingresa una frase: Python\n",
            "La frase tiene 6 caracteres.\n"
          ]
        }
      ]
    },
    {
      "cell_type": "code",
      "source": [
        "# 2. Revisá las condiciones con if/elif/else\n",
        "if frase_usuario == \"Carmen Marylin Rodriguez Perez\":\n",
        "  print(\"Hola \" + frase_usuario)\n",
        "elif frase_usuario == \"Python\":\n",
        "  print(\"¡Excelente! Tu frase menciona nuestro lenguaje de programación favorito.\")\n",
        "else:\n",
        "  print(\"Prueba, pruebita\")"
      ],
      "metadata": {
        "id": "LDS6aD-9fFpi",
        "colab": {
          "base_uri": "https://localhost:8080/"
        },
        "outputId": "5e32b6f2-168c-439d-d504-4437818c5bbd"
      },
      "execution_count": null,
      "outputs": [
        {
          "output_type": "stream",
          "name": "stdout",
          "text": [
            "¡Excelente! Tu frase menciona nuestro lenguaje de programación favorito.\n"
          ]
        }
      ]
    },
    {
      "cell_type": "code",
      "source": [
        "# Se puede usar el operador 'in' para ver si un texto está dentro de otro.\n",
        "\n",
        "if \"Python\" in frase_usuario:\n",
        "    print(\"¡Excelente! Tu frase menciona nuestro lenguaje de programación favorito.\")\n",
        "elif longitud_frase < 20:\n",
        "    print(\"Es una frase corta, ¡directa al punto!\")\n",
        "else:\n",
        "    print(\"Una frase interesante y de buena longitud.\")\n",
        "#En este caso escribí Python, aunque tiene menos de 20 letras, al cumplir con el if me muestra la respuesta para esa condicion, por lo que no entra al elif que evalúa la logitud de la frase"
      ],
      "metadata": {
        "id": "1akwRHG_fBr1",
        "colab": {
          "base_uri": "https://localhost:8080/"
        },
        "outputId": "eca37c4b-ec2f-41c4-c0fc-a0af65c307d6"
      },
      "execution_count": null,
      "outputs": [
        {
          "output_type": "stream",
          "name": "stdout",
          "text": [
            "¡Excelente! Tu frase menciona nuestro lenguaje de programación favorito.\n"
          ]
        }
      ]
    },
    {
      "cell_type": "markdown",
      "source": [
        "## 5. Estructuras de Datos: Organizando nuestra Información\n",
        "\n",
        "En PLN, necesitamos manejar colecciones de datos. Python nos ofrece varias formas de hacerlo:\n",
        "\n",
        "* **Listas (`list`):** Colecciones ordenadas y modificables de elementos.\n",
        "* **Tuplas (`tuple`):** Colecciones ordenadas pero INMODIFICABLES de elementos.\n",
        "* **Diccionarios (`dict`):** Colecciones de pares clave-valor (como un diccionario real)."
      ],
      "metadata": {
        "id": "so0HNyTN_eXZ"
      }
    },
    {
      "cell_type": "code",
      "source": [
        "# Listas (pueden modificarse)\n",
        "# Usamos una lista para almacenar un conjunto de palabras clave.\n",
        "# Las listas son útiles para representar vocabularios o tokens.\n",
        "\n",
        "palabras = ['hola', 'mundo', 'nlp', 'python', 'Hacer', 'pedir']\n",
        "print(\"Lista original:\", palabras)"
      ],
      "metadata": {
        "id": "q7shxpkD_fN3",
        "colab": {
          "base_uri": "https://localhost:8080/"
        },
        "outputId": "6698244f-d6b5-4a9e-b230-9a84275c9025"
      },
      "execution_count": null,
      "outputs": [
        {
          "output_type": "stream",
          "name": "stdout",
          "text": [
            "Lista original: ['hola', 'mundo', 'nlp', 'python', 'Hacer', 'pedir']\n"
          ]
        }
      ]
    },
    {
      "cell_type": "code",
      "source": [
        "# Agregar elemento\n",
        "palabras.append('texto')\n",
        "print(\"Después de append:\", palabras)"
      ],
      "metadata": {
        "id": "4c0F3mQD_p0S",
        "colab": {
          "base_uri": "https://localhost:8080/"
        },
        "outputId": "47875b24-eaa2-4508-e6d5-63d4e2fabecb"
      },
      "execution_count": null,
      "outputs": [
        {
          "output_type": "stream",
          "name": "stdout",
          "text": [
            "Después de append: ['hola', 'mundo', 'nlp', 'python', 'Hacer', 'pedir', 'texto']\n"
          ]
        }
      ]
    },
    {
      "cell_type": "code",
      "source": [
        "# Remover elemento\n",
        "palabras.remove('mundo')\n",
        "print(\"Después de remove:\", palabras)"
      ],
      "metadata": {
        "id": "OB0sWF_b_puE",
        "colab": {
          "base_uri": "https://localhost:8080/"
        },
        "outputId": "081be572-cf57-4790-98f4-4c1298c11e58"
      },
      "execution_count": null,
      "outputs": [
        {
          "output_type": "stream",
          "name": "stdout",
          "text": [
            "Después de remove: ['hola', 'nlp', 'python', 'Hacer', 'pedir', 'texto']\n"
          ]
        }
      ]
    },
    {
      "cell_type": "code",
      "source": [
        "# Acceder por índice\n",
        "print(\"Primera palabra:\", palabras[0])\n",
        "print(\"Última palabra:\", palabras[-1])"
      ],
      "metadata": {
        "id": "GmpBmkTF_pnC",
        "colab": {
          "base_uri": "https://localhost:8080/"
        },
        "outputId": "6fdec692-7dff-45e6-c64c-6202602e2d7c"
      },
      "execution_count": null,
      "outputs": [
        {
          "output_type": "stream",
          "name": "stdout",
          "text": [
            "Primera palabra: hola\n",
            "Última palabra: texto\n"
          ]
        }
      ]
    },
    {
      "cell_type": "code",
      "source": [
        "# Tuplas (NO pueden modificarse)\n",
        "# Las tuplas se usan cuando los elementos no deben cambiar.\n",
        "# En PLN, podrían representar la posición (start, end) de una palabra en el texto.\n",
        "\n",
        "coordenadas = (4, 5)\n",
        "colores = ('rojo', 'verde', 'azul')\n",
        "\n",
        "print(\"Tupla de coordenadas:\", coordenadas)\n",
        "print(\"Segundo color:\", colores[0])"
      ],
      "metadata": {
        "id": "cveEdpXe_0bC",
        "colab": {
          "base_uri": "https://localhost:8080/"
        },
        "outputId": "aa0566ed-19f8-4061-8b32-dc159f8e02b1"
      },
      "execution_count": null,
      "outputs": [
        {
          "output_type": "stream",
          "name": "stdout",
          "text": [
            "Tupla de coordenadas: (4, 5)\n",
            "Segundo color: rojo\n"
          ]
        }
      ]
    },
    {
      "cell_type": "code",
      "source": [
        "# Esto causaría un error:\n",
        "#colores[1] = 'amarillo'  # Descomenta para ver el error\n",
        "#Las tuplas no se pueden modificar, si necesito una esctructura que requiere modificación, entonces debería utilizar una lista\n",
        "\n",
        "colores_lista = ['rojo', 'verde', 'azul']\n",
        "colores_lista[1] = 'amarillo'\n",
        "print(\"Lista de colores modificada:\", colores_lista)"
      ],
      "metadata": {
        "id": "OOe7sJu-_-Ok",
        "colab": {
          "base_uri": "https://localhost:8080/"
        },
        "outputId": "bbe06bcb-61ef-4bc9-fc29-f21933da21e9"
      },
      "execution_count": null,
      "outputs": [
        {
          "output_type": "stream",
          "name": "stdout",
          "text": [
            "Lista de colores modificada: ['rojo', 'amarillo', 'azul']\n"
          ]
        }
      ]
    },
    {
      "cell_type": "code",
      "source": [
        "# Diccionarios (clave-valor)\n",
        "#Un diccionario tiene un variable con un valor asignado\n",
        "#🧠 ¿Qué es frecuencia_palabras?\n",
        "#Es un diccionario de Python, donde: 🔑 Las claves son palabras (por ejemplo: \"nlp\", \"python\")\n",
        "#🔢 Los valores son la cantidad de veces que aparecen en un texto\n",
        "\n",
        "frecuencia_palabras = {'python': 15,\n",
        "                       'nlp': 23,\n",
        "                       'texto': 42}\n",
        "print(\"Diccionario original:\", frecuencia_palabras)"
      ],
      "metadata": {
        "id": "eZekMeklAIe7",
        "colab": {
          "base_uri": "https://localhost:8080/"
        },
        "outputId": "23e5a20d-6b0f-459d-e22f-fef6ffe1aad8"
      },
      "execution_count": null,
      "outputs": [
        {
          "output_type": "stream",
          "name": "stdout",
          "text": [
            "Diccionario original: {'python': 15, 'nlp': 23, 'texto': 42}\n"
          ]
        }
      ]
    },
    {
      "cell_type": "code",
      "source": [
        "# Agregar nueva entrada\n",
        "frecuencia_palabras['datos'] = 18\n",
        "print(\"Después de agregar 'datos':\", frecuencia_palabras)"
      ],
      "metadata": {
        "id": "QUZQdodwAKrV",
        "colab": {
          "base_uri": "https://localhost:8080/"
        },
        "outputId": "5a974f9c-3dbf-456b-f384-0ef048536059"
      },
      "execution_count": null,
      "outputs": [
        {
          "output_type": "stream",
          "name": "stdout",
          "text": [
            "Después de agregar 'datos': {'python': 15, 'nlp': 23, 'texto': 42, 'datos': 18}\n"
          ]
        }
      ]
    },
    {
      "cell_type": "code",
      "source": [
        "# Acceder a valores\n",
        "#.get() es un método seguro para consultar el valor de una clave en un diccionario.\n",
        "#Si la clave existe, devuelve su valor.\n",
        "#Si la clave no existe, devuelve el valor por defecto que vos especifiques.\n",
        "print(\"Frecuencia de 'nlp':\", frecuencia_palabras.get('nlp', 0))\n",
        "print(\"Frecuencia de palabra inexistente:\", frecuencia_palabras.get('inexistente', 0))\n",
        "\n",
        "# Usamos el método .get() para obtener la frecuencia de la palabra 'nlp'.\n",
        "# Si la palabra está en el diccionario, devuelve su valor.\n",
        "# Si no estuviera, devolvería 0 en lugar de generar un error.\n",
        "\n",
        "# Si buscamos una palabra que no está en el diccionario, como 'inexistente',\n",
        "# .get() nos devuelve 0 en lugar de lanzar un error.\n",
        "# Esto es útil para evitar errores cuando analizamos grandes textos con muchas palabras diferentes.\n",
        "\n"
      ],
      "metadata": {
        "id": "SjuSdoBDAKnt",
        "colab": {
          "base_uri": "https://localhost:8080/"
        },
        "outputId": "372045d7-3411-4881-a3cf-b7a5c474e0c8"
      },
      "execution_count": null,
      "outputs": [
        {
          "output_type": "stream",
          "name": "stdout",
          "text": [
            "Frecuencia de 'nlp': 23\n",
            "Frecuencia de palabra inexistente: 0\n"
          ]
        }
      ]
    },
    {
      "cell_type": "code",
      "source": [
        "# Condicionales con estructuras de datos\n",
        "texto = \"Python es excelente para NLP\"\n",
        "#texto = \"Python es excelente para NLP, este es un texto de prueba\"\n",
        "palabras_texto = texto.split()"
      ],
      "metadata": {
        "id": "JpoRqGReAk_G"
      },
      "execution_count": null,
      "outputs": []
    },
    {
      "cell_type": "code",
      "source": [
        "palabras_texto"
      ],
      "metadata": {
        "colab": {
          "base_uri": "https://localhost:8080/"
        },
        "id": "No_PDZGinbww",
        "outputId": "0a551674-04ab-4619-e5c1-d8eb70298f89"
      },
      "execution_count": null,
      "outputs": [
        {
          "output_type": "execute_result",
          "data": {
            "text/plain": [
              "['Python', 'es', 'excelente', 'para', 'NLP']"
            ]
          },
          "metadata": {},
          "execution_count": 48
        }
      ]
    },
    {
      "cell_type": "code",
      "source": [
        "if len(palabras_texto) > 3:\n",
        "    print(\"El texto tiene más de 3 palabras\")\n",
        "    if \"NLP\" in palabras_texto:\n",
        "        print(\"Y además menciona NLP!\")\n",
        "    elif \"Python\" in palabras_texto:\n",
        "        print(\"El texto menciona Python\")\n",
        "else:\n",
        "    print(\"Texto corto sin palabras clave reconocidas\")"
      ],
      "metadata": {
        "colab": {
          "base_uri": "https://localhost:8080/"
        },
        "id": "D1aiDYFWnV0C",
        "outputId": "7675a1d9-1597-4bbf-9e7e-3258f5c12314"
      },
      "execution_count": null,
      "outputs": [
        {
          "output_type": "stream",
          "name": "stdout",
          "text": [
            "El texto tiene más de 3 palabras\n",
            "Y además menciona NLP!\n"
          ]
        }
      ]
    },
    {
      "cell_type": "code",
      "source": [
        "# Bucles para procesar listas\n",
        "texto = \"Python es un lenguaje de programación ampliamente utilizado en PLN, estetoscopio\"\n",
        "\n",
        "print(\"Palabras largas en el texto:\")\n",
        "for palabra in texto.split():\n",
        "    if len(palabra) > 5:  # Palabras de más de 5 letras\n",
        "        print(f\"- {palabra} ({len(palabra)} letras)\")\n",
        "\n",
        "# Recorremos el texto palabra por palabra (tokenización rudimentaria).\n",
        "# Filtramos aquellas que superan cierta longitud.\n",
        "# Este tipo de lógica se usa para eliminar palabras irrelevantes (stopwords).\n"
      ],
      "metadata": {
        "id": "BdwBJqW2Aypa",
        "colab": {
          "base_uri": "https://localhost:8080/"
        },
        "outputId": "ceab504c-0e23-4d4f-adef-48ff5a334abe"
      },
      "execution_count": null,
      "outputs": [
        {
          "output_type": "stream",
          "name": "stdout",
          "text": [
            "Palabras largas en el texto:\n",
            "- Python (6 letras)\n",
            "- lenguaje (8 letras)\n",
            "- programación (12 letras)\n",
            "- ampliamente (11 letras)\n",
            "- utilizado (9 letras)\n",
            "- estetoscopio (12 letras)\n"
          ]
        }
      ]
    },
    {
      "cell_type": "markdown",
      "source": [
        "##Ejercicio Practico 2"
      ],
      "metadata": {
        "id": "E9DyAER9BFkN"
      }
    },
    {
      "cell_type": "code",
      "source": [
        "#✏️ EJERCICIO PRÁCTICO 2: Contador de Palabras\n",
        "\n",
        "texto = \"Python es un lenguaje de programación ampliamente utilizado en el procesamiento del lenguaje natural\"\n"
      ],
      "metadata": {
        "id": "yrTDTtQOBGEN"
      },
      "execution_count": null,
      "outputs": []
    },
    {
      "cell_type": "code",
      "source": [
        "# 1. Convertir texto a minúsculas\n",
        "texto = texto.lower()\n",
        "texto"
      ],
      "metadata": {
        "colab": {
          "base_uri": "https://localhost:8080/",
          "height": 36
        },
        "id": "E_cXV9PAVf2I",
        "outputId": "281490e2-a906-4027-b107-19a554861a41"
      },
      "execution_count": null,
      "outputs": [
        {
          "output_type": "execute_result",
          "data": {
            "text/plain": [
              "'python es un lenguaje de programación ampliamente utilizado en el procesamiento del lenguaje natural'"
            ],
            "application/vnd.google.colaboratory.intrinsic+json": {
              "type": "string"
            }
          },
          "metadata": {},
          "execution_count": 55
        }
      ]
    },
    {
      "cell_type": "code",
      "source": [
        "# 2. Dividir en palabras\n",
        "\n",
        "palabras = texto.split()\n",
        "print (palabras)\n"
      ],
      "metadata": {
        "colab": {
          "base_uri": "https://localhost:8080/"
        },
        "id": "fFMHCY-RVnw6",
        "outputId": "ae27b916-c29b-466a-cbda-990d7e6730f7"
      },
      "execution_count": null,
      "outputs": [
        {
          "output_type": "stream",
          "name": "stdout",
          "text": [
            "['python', 'es', 'un', 'lenguaje', 'de', 'programación', 'ampliamente', 'utilizado', 'en', 'el', 'procesamiento', 'del', 'lenguaje', 'natural']\n"
          ]
        }
      ]
    },
    {
      "cell_type": "code",
      "source": [
        "# 3. Contar frecuencia de cada palabra\n",
        "frecuencias = {}\n",
        "\n",
        "for palabra in palabras:\n",
        "    frecuencias[palabra] = frecuencias.get(palabra, 0) + 1\n",
        "\n",
        "frecuencias\n",
        "\n",
        "#print(\"Frecuencias:\", frecuencias)\n"
      ],
      "metadata": {
        "colab": {
          "base_uri": "https://localhost:8080/"
        },
        "id": "_DRrCicaVo1Q",
        "outputId": "ec2d19cb-3804-41bd-86c2-452d987b13e0"
      },
      "execution_count": null,
      "outputs": [
        {
          "output_type": "execute_result",
          "data": {
            "text/plain": [
              "{'python': 1,\n",
              " 'es': 1,\n",
              " 'un': 1,\n",
              " 'lenguaje': 2,\n",
              " 'de': 1,\n",
              " 'programación': 1,\n",
              " 'ampliamente': 1,\n",
              " 'utilizado': 1,\n",
              " 'en': 1,\n",
              " 'el': 1,\n",
              " 'procesamiento': 1,\n",
              " 'del': 1,\n",
              " 'natural': 1}"
            ]
          },
          "metadata": {},
          "execution_count": 59
        }
      ]
    },
    {
      "cell_type": "markdown",
      "source": [
        "---\n",
        "## Glosario Rápido de la Clase 1\n",
        "\n",
        "* **Variable**: Un nombre que usamos para guardar un valor en la memoria del programa.\n",
        "* **String (`str`)**: Un tipo de dato que representa texto. Se define con comillas (`\"hola\"`).\n",
        "* **Integer (`int`)**: Tipo de dato para números enteros, sin decimales (ej: `10`, `-3`).\n",
        "* **Float (`float`)**: Tipo de dato para números con decimales (ej: `9.5`, `3.1416`).\n",
        "* **Boolean (`bool`)**: Un tipo de dato que solo tiene dos valores posibles: `True` (verdadero) o `False` (falso).\n",
        "* **Operador**: Un símbolo que realiza una acción, como `+` para unir texto o `==` para comparar si dos cosas son iguales.\n",
        "* **Condicional (`if`, `elif`, `else`)**: Una estructura que le permite a tu programa tomar decisiones y ejecutar diferentes bloques de código según se cumpla o no una condición.\n",
        "* **Indentación**: Los espacios al principio de una línea. En Python, es fundamental y define qué código pertenece a un `if`, un bucle, etc.\n",
        "* **Función**: Un bloque de código con nombre que realiza una tarea específica (ej: `print()`, `len()`, `type()`).\n",
        "---"
      ],
      "metadata": {
        "id": "b-W8YA1pDffS"
      }
    }
  ]
}