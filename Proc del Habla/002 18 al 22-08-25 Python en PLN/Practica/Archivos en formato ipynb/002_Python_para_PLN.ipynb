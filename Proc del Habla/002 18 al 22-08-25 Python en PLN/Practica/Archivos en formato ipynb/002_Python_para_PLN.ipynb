{
  "nbformat": 4,
  "nbformat_minor": 0,
  "metadata": {
    "colab": {
      "provenance": []
    },
    "kernelspec": {
      "name": "python3",
      "display_name": "Python 3"
    },
    "language_info": {
      "name": "python"
    }
  },
  "cells": [
    {
      "cell_type": "markdown",
      "source": [
        "# Clase 2: Estructuras Avanzadas y Aplicaciones en PLN 🛠️\n",
        "\n",
        "Ya vimos los elementos minimos fudamentales de Python (variables, condicionales). Hoy, vamos a construir con ellos: crearemos herramientas reutilizables, organizaremos nuestro código de manera profesional y, al final, ¡construiremos una aplicación web interactiva para analizar texto!\n",
        "\n",
        "## Hoja de Ruta (2 horas)\n",
        "1.  **Calentamiento: Manipulación Avanzada de Texto** (20 min)\n",
        "2.  **Funciones: Creando Herramientas a Medida** (25 min)\n",
        "3.  **Programación Orientada a Objetos (POO): El Salto a un Código Profesional** (30 min)\n",
        "4.  **Ejercicio Práctico 1: Expandiendo Nuestras Clases** (15 min)\n",
        "5.  **Ejercicio Integrador Final: De Python a Aplicación Web con Gradio** (30 min)"
      ],
      "metadata": {
        "id": "Ygt4gGWFEfI1"
      }
    },
    {
      "cell_type": "markdown",
      "source": [
        "## 1. Calentamiento: Manipulación Avanzada de Texto\n",
        "\n",
        "En PLN, el 90% del trabajo es \"limpiar\" y \"preparar\" el texto. Por suerte, los strings en Python vienen con \"superpoderes\" incorporados llamados **métodos**, que nos facilitan enormemente esta tarea."
      ],
      "metadata": {
        "id": "Mw127D_FE0MO"
      }
    },
    {
      "cell_type": "code",
      "source": [
        "# 🧹 .strip() elimina espacios en blanco al principio y final del texto.\n",
        "# Es importante para evitar errores en comparación de strings o tokens.\n",
        "# En PLN, se usa justo después de extraer texto de documentos o web scraping.\n",
        "\n",
        "# 🔠 .lower() convierte todo el texto a minúsculas.\n",
        "# Esto permite comparar palabras sin importar las mayúsculas (ej: \"Hola\" = \"hola\").\n",
        "\n",
        "# 🔡 .upper() hace lo opuesto: convierte a mayúsculas.\n",
        "# Puede servir en análisis visuales o normalización para sistemas legados.\n",
        "\n",
        "# 🔄 .replace('A', 'B') reemplaza una palabra o símbolo por otro.\n",
        "# En PLN se usa para eliminar o transformar caracteres no deseados (como signos de puntuación, hashtags, etc).\n",
        "\n",
        "# ✂️ .split() separa el texto en una lista de palabras.\n",
        "# Es un primer paso para tokenizar, aunque no es la tokenización profesional (como la de spaCy o nltk).\n",
        "\n",
        "# 🧵 ' '.join(lista) toma una lista de palabras y las une con espacios (o cualquier otro separador).\n",
        "# Es útil para volver a construir oraciones o generar strings de salida.\n"
      ],
      "metadata": {
        "id": "hmHmv0Itqc-7"
      },
      "execution_count": null,
      "outputs": []
    },
    {
      "cell_type": "code",
      "execution_count": null,
      "metadata": {
        "id": "ibQ7oC8eEayh"
      },
      "outputs": [],
      "source": [
        "# Métodos útiles de strings que usaremos constantemente\n",
        "texto = \"  Procesamiento del Lenguaje Natural en el Rio de la Plata \""
      ]
    },
    {
      "cell_type": "code",
      "source": [
        "# .strip() -> Elimina espacios en blanco al inicio y al final\n",
        "print(f\"Original: '{texto}'\")\n",
        "print(f\"Con .strip(): '{texto.strip()}'\")"
      ],
      "metadata": {
        "id": "yYtXp_NIFEY3",
        "colab": {
          "base_uri": "https://localhost:8080/"
        },
        "outputId": "c616577b-2d32-42dd-d2f1-9c9a21be1c78"
      },
      "execution_count": null,
      "outputs": [
        {
          "output_type": "stream",
          "name": "stdout",
          "text": [
            "Original: '  Procesamiento del Lenguaje Natural en el Rio de la Plata '\n",
            "Con .strip(): 'Procesamiento del Lenguaje Natural en el Rio de la Plata'\n"
          ]
        }
      ]
    },
    {
      "cell_type": "code",
      "source": [
        "# .lower() y .upper() -> Convierten a minúsculas y mayúsculas\n",
        "print(f\"Con .lower(): '{texto.lower()}'\")\n",
        "print(f\"Con .upper(): '{texto.upper()}'\")"
      ],
      "metadata": {
        "id": "uePcJAMeFEV0",
        "colab": {
          "base_uri": "https://localhost:8080/"
        },
        "outputId": "840a3197-5406-48df-d1d7-8da8ed6af754"
      },
      "execution_count": null,
      "outputs": [
        {
          "output_type": "stream",
          "name": "stdout",
          "text": [
            "Con .lower(): '  procesamiento del lenguaje natural en el rio de la plata '\n",
            "Con .upper(): '  PROCESAMIENTO DEL LENGUAJE NATURAL EN EL RIO DE LA PLATA '\n"
          ]
        }
      ]
    },
    {
      "cell_type": "code",
      "source": [
        "# .replace('viejo', 'nuevo') -> Reemplaza una parte del texto por otra\n",
        "print(f\"Con .replace(): '{texto.replace('Lenguaje', 'Idioma')}'\")"
      ],
      "metadata": {
        "id": "cNL8q9u1FEMF",
        "colab": {
          "base_uri": "https://localhost:8080/"
        },
        "outputId": "cd5ab66d-ae3c-4a58-b6aa-106a475d16f9"
      },
      "execution_count": null,
      "outputs": [
        {
          "output_type": "stream",
          "name": "stdout",
          "text": [
            "Con .replace(): '  Procesamiento del Idioma Natural en el Rio de la Plata '\n"
          ]
        }
      ]
    },
    {
      "cell_type": "code",
      "source": [
        "# .split() -> Divide un string en una lista de palabras (¡lo vimos en la Clase 1!)\n",
        "print(f\"Con .split(): {texto.split()}\")"
      ],
      "metadata": {
        "id": "0CcFm_tjFEJY",
        "colab": {
          "base_uri": "https://localhost:8080/"
        },
        "outputId": "dfb4f13e-e67b-4186-9150-6e16eda6bf28"
      },
      "execution_count": null,
      "outputs": [
        {
          "output_type": "stream",
          "name": "stdout",
          "text": [
            "Con .split(): ['Procesamiento', 'del', 'Lenguaje', 'Natural', 'en', 'el', 'Rio', 'de', 'la', 'Plata']\n"
          ]
        }
      ]
    },
    {
      "cell_type": "code",
      "source": [
        "# 'separador'.join(lista) -> Une los elementos de una lista en un solo string\n",
        "palabras_a_unir = [\"El\", \"NLP\", \"es\", \"genial\"]\n",
        "print(f\"Con .join(): '{' '.join(palabras_a_unir)}'\")"
      ],
      "metadata": {
        "id": "2nA9GIfKFEG0",
        "colab": {
          "base_uri": "https://localhost:8080/"
        },
        "outputId": "1ab2e771-c6b7-4ec4-fe1d-13351b90c1f0"
      },
      "execution_count": null,
      "outputs": [
        {
          "output_type": "stream",
          "name": "stdout",
          "text": [
            "Con .join(): 'El NLP es genial'\n"
          ]
        }
      ]
    },
    {
      "cell_type": "markdown",
      "source": [
        "## 2. Funciones: Creacion de Herramientas a Medida\n",
        "\n",
        "Ya sabemos crear funciones, pero ahora vamos a usarlas como lo hacen los profesionales: para encapsular una lógica específica y hacer nuestro código más limpio y reutilizable. Una buena función hace **una sola cosa y la hace bien**.\n",
        "\n",
        "Vamos a crear una función que limpie un texto y otra que, usando la primera, cuente las palabras."
      ],
      "metadata": {
        "id": "zxwaAwpjFk1s"
      }
    },
    {
      "cell_type": "code",
      "source": [
        "# Función 1: Especializada en limpiar texto\n",
        "def limpiar_texto(texto):\n",
        "    \"\"\"Limpia un texto removiendo caracteres de puntuación comunes.\"\"\"\n",
        "    caracteres_especiales = ['.', ',', '!', '?', ';', ':']\n",
        "    texto_limpio = texto\n",
        "    for char in caracteres_especiales:\n",
        "        texto_limpio = texto_limpio.replace(char, '')\n",
        "    return texto_limpio.lower() # Devuelve el texto limpio y en minúsculas"
      ],
      "metadata": {
        "id": "qyRpmIy4FED_"
      },
      "execution_count": null,
      "outputs": []
    },
    {
      "cell_type": "code",
      "source": [
        "# Función 2: Especializada en contar palabras\n",
        "\n",
        "def contar_palabras(texto):\n",
        "    \"\"\"Usa limpiar_texto() para procesar el texto y luego cuenta las palabras.\"\"\"\n",
        "    texto_procesado = limpiar_texto(texto) # ¡Reutilizamos nuestra primera función!\n",
        "    palabras = texto_procesado.split()\n",
        "    return len(palabras)\n",
        "\n",
        "# Definimos una función llamada contar_palabras que recibe un texto como argumento.\n",
        "# Usamos .lower() para convertir todo a minúsculas (opcional en este caso).\n",
        "# Luego usamos .split() para dividir el texto en palabras.\n",
        "# Finalmente, usamos len() para contar cuántas palabras hay.\n"
      ],
      "metadata": {
        "id": "Gq9OBViXFEBF"
      },
      "execution_count": null,
      "outputs": []
    },
    {
      "cell_type": "code",
      "source": [
        "# --- Uso de las funciones ---\n",
        "mi_texto = \"¡Hola, mundo! ¿Listo/a para aprender sobre Procesamiento del Lenguaje Natural?\"\n",
        "cantidad = contar_palabras(mi_texto)\n",
        "\n",
        "print(f\"El texto original era: '{mi_texto}'\")\n",
        "print(f\"Después de limpiarlo y contarlo, tiene {cantidad} palabras.\")"
      ],
      "metadata": {
        "id": "dWe0-2XFFD-J",
        "colab": {
          "base_uri": "https://localhost:8080/"
        },
        "outputId": "7f6a8477-cfb6-437e-bfa7-f969f65f6110"
      },
      "execution_count": null,
      "outputs": [
        {
          "output_type": "stream",
          "name": "stdout",
          "text": [
            "El texto original era: '¡Hola, mundo! ¿Listo/a para aprender sobre Procesamiento del Lenguaje Natural?'\n",
            "Después de limpiarlo y contarlo, tiene 10 palabras.\n"
          ]
        }
      ]
    },
    {
      "cell_type": "code",
      "source": [
        "# Probamos la función con una frase.\n",
        "# 'cantidad' almacena el número total de palabras encontradas.\n",
        "# Imprimimos el resultado.\n",
        "\n",
        "texto = \"El procesamiento del lenguaje natural es una rama de la inteligencia artificial\"\n",
        "cantidad = contar_palabras(texto)\n",
        "print(f\"El texto original era: '{texto.upper()}'\")\n",
        "print(f\"El texto original era: '{texto.lower()}'\")\n",
        "print(f\"Después de limpiarlo y contarlo, tiene {cantidad} palabras.\")\n"
      ],
      "metadata": {
        "colab": {
          "base_uri": "https://localhost:8080/"
        },
        "id": "pdRlzG30tK6S",
        "outputId": "b57378c6-1098-4f38-b10a-b86ebd2c3d92"
      },
      "execution_count": null,
      "outputs": [
        {
          "output_type": "stream",
          "name": "stdout",
          "text": [
            "El texto original era: 'EL PROCESAMIENTO DEL LENGUAJE NATURAL ES UNA RAMA DE LA INTELIGENCIA ARTIFICIAL'\n",
            "El texto original era: 'el procesamiento del lenguaje natural es una rama de la inteligencia artificial'\n",
            "Después de limpiarlo y contarlo, tiene 12 palabras.\n"
          ]
        }
      ]
    },
    {
      "cell_type": "markdown",
      "source": [
        "## 3. Programación Orientada a Objetos (POO): Un Código más Inteligente\n",
        "\n",
        "La POO es un paradigma para organizar el código. La idea es simple: en lugar de tener datos y funciones por separado, los agrupamos en \"objetos\" que tienen tanto los datos (atributos) como las funciones que operan sobre esos datos (métodos).\n",
        "\n",
        "* **Clase**: Es el \"plano\" o la \"receta\". Define cómo serán los objetos.\n",
        "* **Objeto (o instancia)**: Es la \"casa\" construida a partir del plano. Es una entidad real con la que interactuamos.\n",
        "* **`__init__(self, ...)`**: El \"constructor\". Es un método especial que se ejecuta al crear un nuevo objeto para inicializar sus atributos.\n",
        "* **`self`**: Se refiere al objeto mismo. Así es como el objeto accede a sus propios datos y métodos.\n",
        "\n",
        "Vamos a crear una clase `ProcesadorTexto` que encapsule un texto y todas las operaciones que queremos hacer con él."
      ],
      "metadata": {
        "id": "ZKuKy45kGOnq"
      }
    },
    {
      "cell_type": "code",
      "source": [
        "# Definiendo el \"plano\" para nuestros procesadores de texto\n",
        "class ProcesadorTexto:\n",
        "    # El constructor: se ejecuta cuando creamos un objeto con ProcesadorTexto(\"...\")\n",
        "    def __init__(self, texto):\n",
        "        print(f\"✨ Creando un nuevo procesador para el texto: '{texto[:30]}...'\")\n",
        "        self.texto_original = texto\n",
        "        self.texto_limpio = self.texto_original.lower().strip('.,!?')\n",
        "        self.palabras = self.texto_limpio.split()\n",
        "\n",
        "    # Un método para contar palabras\n",
        "    def contar_palabras(self):# Método que cuenta cuántas palabras hay en el documento, usando la lista ya procesada.\n",
        "        return len(self.palabras)\n",
        "\n",
        "    # Un método para contar palabras únicas (sin repeticiones)\n",
        "    def contar_palabras_unicas(self):\n",
        "        return len(set(self.palabras)) # 'set' elimina duplicados automáticamente\n",
        "\n",
        "    # Un método para calcular la frecuencia de cada palabra\n",
        "    def calcular_frecuencia(self):\n",
        "        frecuencia = {}\n",
        "        for palabra in self.palabras:\n",
        "            frecuencia[palabra] = frecuencia.get(palabra, 0) + 1\n",
        "        return frecuencia\n",
        "\n",
        "# El método __init__ se ejecuta automáticamente cuando creamos un nuevo Documento.\n",
        "# Guarda el texto original en self.texto.\n",
        "# También prepara una lista de palabras en minúscula (tokenización básica) y la guarda en self.palabras.\n",
        "# La variable self hace referencia al propio objeto que estamos creando.\n"
      ],
      "metadata": {
        "id": "LacDK8uwGffa"
      },
      "execution_count": null,
      "outputs": []
    },
    {
      "cell_type": "code",
      "source": [
        "# --- Uso de la clase ---\n",
        "# Creamos un objeto (una instancia) de nuestra clase\n",
        "procesador = ProcesadorTexto(\"Python para NLP es genial porque Python es versátil.\")\n",
        "\n",
        "# Ahora podemos usar sus métodos\n",
        "print(f\"Total de palabras: {procesador.contar_palabras()}\")\n",
        "print(f\"Palabras únicas: {procesador.contar_palabras_unicas()}\")\n",
        "print(f\"Frecuencia de palabras: {procesador.calcular_frecuencia()}\")"
      ],
      "metadata": {
        "id": "gMPsbvS2G4Tr",
        "colab": {
          "base_uri": "https://localhost:8080/"
        },
        "outputId": "f9787a79-94b4-498d-9c66-078cdab65018"
      },
      "execution_count": null,
      "outputs": [
        {
          "output_type": "stream",
          "name": "stdout",
          "text": [
            "✨ Creando un nuevo procesador para el texto: 'Python para NLP es genial porq...'\n",
            "Total de palabras: 9\n",
            "Palabras únicas: 7\n",
            "Frecuencia de palabras: {'python': 2, 'para': 1, 'nlp': 1, 'es': 2, 'genial': 1, 'porque': 1, 'versátil': 1}\n"
          ]
        }
      ]
    },
    {
      "cell_type": "code",
      "source": [
        "procesador = ProcesadorTexto(\"\"\"Prácticamente, no existe hoy en día una faceta de la realidad de la cual no se disponga\n",
        "información de manera electrónica, ya sea estructurada, en forma de bases de datos, o no\n",
        "estructurada, en forma textual o hipertextual. Desgraciadamente, gran parte de esta\n",
        "información se genera con un fin concreto y posteriormente no se analiza ni integra con el\n",
        "resto de información o conocimiento del dominio de actuación. Un ejemplo claro podemos\n",
        "encontrarlo en muchas empresas y organizaciones, donde existe una base de datos\n",
        "transaccional (el sistema de información de la organización) que sirve para el funcionamiento\n",
        "de las aplicaciones del día a día, pero que raramente se utiliza con fines analíticos. Esto\n",
        "se debe, fundamentalmente, a que no se sabe cómo hacerlo, es decir, no se dispone de las\n",
        "personas y de las herramientas indicadas para ello.\n",
        "Afortunadamente, la situación ha cambiado de manera significativa respecto a unos\n",
        "años atrás, donde el análisis de datos se realizaba exclusivamente en las grandes\n",
        "corporaciones, gobiernos y entidades bancarias, por departamentos especializados con\n",
        "nombres diversos: planificación y prospectiva, estadística, logística, investigación operativa,\n",
        "etc. Tanto la tecnología informática actual, la madurez de las técnicas de aprendizaje\n",
        "automático y las nuevas herramientas de minería de datos de sencillo manejo, permiten a\n",
        "una pequeña o mediana organización (o incluso un particular) tratar los grandes\n",
        "volúmenes de datos almacenados en las bases de datos (propias de la organización,\n",
        "externas o en la web).\"\"\")\n",
        "\n",
        "# Ahora podemos usar sus métodos\n",
        "print(f\"Total de palabras: {procesador.contar_palabras()}\")\n",
        "print(f\"Palabras únicas: {procesador.contar_palabras_unicas()}\")\n",
        "print(f\"Frecuencia de palabras: {procesador.calcular_frecuencia()}\")"
      ],
      "metadata": {
        "colab": {
          "base_uri": "https://localhost:8080/"
        },
        "id": "bVS_sg75xap6",
        "outputId": "c6c5fdbe-665d-429e-8397-5cb8ce5ca826"
      },
      "execution_count": null,
      "outputs": [
        {
          "output_type": "stream",
          "name": "stdout",
          "text": [
            "✨ Creando un nuevo procesador para el texto: 'Prácticamente, no existe hoy e...'\n",
            "Total de palabras: 237\n",
            "Palabras únicas: 142\n",
            "Frecuencia de palabras: {'prácticamente,': 1, 'no': 6, 'existe': 2, 'hoy': 1, 'en': 7, 'día': 2, 'una': 3, 'faceta': 1, 'de': 24, 'la': 8, 'realidad': 1, 'cual': 1, 'se': 8, 'disponga': 1, 'información': 4, 'manera': 2, 'electrónica,': 1, 'ya': 1, 'sea': 1, 'estructurada,': 2, 'forma': 2, 'bases': 2, 'datos,': 1, 'o': 5, 'textual': 1, 'hipertextual.': 1, 'desgraciadamente,': 1, 'gran': 1, 'parte': 1, 'esta': 1, 'genera': 1, 'con': 4, 'un': 3, 'fin': 1, 'concreto': 1, 'y': 6, 'posteriormente': 1, 'analiza': 1, 'ni': 1, 'integra': 1, 'el': 3, 'resto': 1, 'conocimiento': 1, 'del': 2, 'dominio': 1, 'actuación.': 1, 'ejemplo': 1, 'claro': 1, 'podemos': 1, 'encontrarlo': 1, 'muchas': 1, 'empresas': 1, 'organizaciones,': 1, 'donde': 2, 'base': 1, 'datos': 5, 'transaccional': 1, '(el': 1, 'sistema': 1, 'organización)': 1, 'que': 3, 'sirve': 1, 'para': 2, 'funcionamiento': 1, 'las': 7, 'aplicaciones': 1, 'a': 4, 'día,': 1, 'pero': 1, 'raramente': 1, 'utiliza': 1, 'fines': 1, 'analíticos.': 1, 'esto': 1, 'debe,': 1, 'fundamentalmente,': 1, 'sabe': 1, 'cómo': 1, 'hacerlo,': 1, 'es': 1, 'decir,': 1, 'dispone': 1, 'personas': 1, 'herramientas': 2, 'indicadas': 1, 'ello.': 1, 'afortunadamente,': 1, 'situación': 1, 'ha': 1, 'cambiado': 1, 'significativa': 1, 'respecto': 1, 'unos': 1, 'años': 1, 'atrás,': 1, 'análisis': 1, 'realizaba': 1, 'exclusivamente': 1, 'grandes': 2, 'corporaciones,': 1, 'gobiernos': 1, 'entidades': 1, 'bancarias,': 1, 'por': 1, 'departamentos': 1, 'especializados': 1, 'nombres': 1, 'diversos:': 1, 'planificación': 1, 'prospectiva,': 1, 'estadística,': 1, 'logística,': 1, 'investigación': 1, 'operativa,': 1, 'etc.': 1, 'tanto': 1, 'tecnología': 1, 'informática': 1, 'actual,': 1, 'madurez': 1, 'técnicas': 1, 'aprendizaje': 1, 'automático': 1, 'nuevas': 1, 'minería': 1, 'sencillo': 1, 'manejo,': 1, 'permiten': 1, 'pequeña': 1, 'mediana': 1, 'organización': 1, '(o': 1, 'incluso': 1, 'particular)': 1, 'tratar': 1, 'los': 1, 'volúmenes': 1, 'almacenados': 1, '(propias': 1, 'organización,': 1, 'externas': 1, 'web)': 1}\n"
          ]
        }
      ]
    },
    {
      "cell_type": "code",
      "source": [
        "#🔍 ¿Por qué usar clases en PLN?\n",
        "#📦 Permiten empaquetar texto + funciones en un solo lugar\n",
        "#✅ Hacen que el código sea más reutilizable y legible\n",
        "#🧩 Se pueden extender fácilmente (por ejemplo, agregar normalización, conteo de frecuencias, limpieza, etc.)\n",
        "#🧠 Se asemejan a cómo modelamos el mundo real: un documento tiene texto, palabras, metadatos..."
      ],
      "metadata": {
        "id": "3MG3BpvIyCz2"
      },
      "execution_count": null,
      "outputs": []
    },
    {
      "cell_type": "markdown",
      "source": [
        "## 4. Ejercicio Práctico 1: Expandiendo Nuestra Clase\n",
        "\n",
        "¡Tu turno! Vamos a agregarle más \"poder\" a nuestra clase `ProcesadorTexto`.\n",
        "\n",
        "**Tu objetivo:** Añadí un nuevo método a la clase llamado `calcular_longitud_media()`. Este método debe calcular y devolver la longitud promedio de las palabras en el texto.\n",
        "\n",
        "**Pista:** Deberás sumar la longitud de todas las palabras y dividirla por el número total de palabras."
      ],
      "metadata": {
        "id": "GWdGzt9OHKR_"
      }
    },
    {
      "cell_type": "code",
      "source": [
        "# Pega la clase ProcesadorTexto acá y añádile tu nuevo método.\n",
        "\n",
        "class ProcesadorTexto:\n",
        "    def __init__(self, texto):\n",
        "        self.texto_original = texto\n",
        "        self.texto_limpio = self.texto_original.lower().strip('.,!?')\n",
        "        self.palabras = self.texto_limpio.split()\n",
        "# El constructor recibe un texto, lo guarda como original y también lo limpia:\n",
        "# - Convierte a minúsculas para normalizar\n",
        "# - Elimina signos de puntuación básicos con .strip()\n",
        "# - Divide el texto en palabras con .split() para obtener una lista de tokens\n",
        "\n",
        "\n",
        "    def contar_palabras(self):\n",
        "        return len(self.palabras)\n",
        "# Devuelve el total de palabras del texto ya procesado.\n",
        "#📌 PLN: Longitud del documento → útil para calcular métricas como longitud promedio, densidad léxica, etc.\n",
        "\n",
        "    def contar_palabras_unicas(self):\n",
        "        return len(set(self.palabras))\n",
        "# Devuelve la cantidad de palabras únicas (sin repetir) en el texto.\n",
        "#📌 PLN: Muy útil para calcular diversidad léxica, o para entrenar vocabularios.\n",
        "\n",
        "\n",
        "    def contiene(self, palabra):\n",
        "        return palabra.lower() in self.palabras\n",
        "# Verifica si la palabra indicada está presente en el documento, ignorando mayúsculas.\n",
        "#📌 PLN: Sirve para detección de keywords (palabras ofensivas, etiquetas, temas).\n",
        "\n",
        "    def calcular_frecuencia(self):\n",
        "        frecuencia = {}\n",
        "        for palabra in self.palabras:\n",
        "            frecuencia[palabra] = frecuencia.get(palabra, 0) + 1\n",
        "        return frecuencia\n",
        "# Recorre las palabras del texto y calcula cuántas veces aparece cada una.\n",
        "# Devuelve un diccionario {palabra: frecuencia}\n",
        "#📌 PLN: Esta técnica es base para: nubes de palabras / TF-IDF / clasificación basada en bolsa de palabras\n",
        "\n",
        "    def calcular_longitud_media(self):\n",
        "        if not self.palabras: # Evitar división por cero si el texto está vacío\n",
        "            return 0\n",
        "        total_letras = sum(len(palabra) for palabra in self.palabras)\n",
        "        return total_letras / len(self.palabras)\n",
        "# Calcula la longitud promedio de las palabras en el documento.\n",
        "# Si no hay palabras, devuelve 0 para evitar división por cero.\n",
        "#📌 PLN: Puede usarse como indicador de complejidad o estilo de escritura.\n",
        "\n",
        "#Aquí estoy probando lo anterior\n",
        "procesador_prueba = ProcesadorTexto(\"\"\"Cualquier profesional o particular puede tener interés o necesidad de analizar sus datos,\n",
        "desde un comercial que desea realizar un agrupamiento de sus clientes, hasta un broker que\n",
        "pretende utilizar la minería de datos para analizar el mercado de valores, pasando por un\n",
        "psiquiatra que intenta clasificar sus pacientes en violentos o no violentos a partir de sus\n",
        "comportamientos anteriores. Los problemas y las dudas a la hora de cubrir estas\n",
        "necesidades aparecen si se desconoce por dónde empezar, qué herramientas utilizar, qué\n",
        "técnicas estadísticas o de aprendizaje automático son más apropiadas y qué tipo de\n",
        "conocimiento puedo llegar a obtener y con qué fiabilidad. Este libro intenta resolver estas\n",
        "dudas pero, además, presenta una serie de posibilidades y, por supuesto, de limitaciones,\n",
        "que ni el comercial, el broker o el psiquiatra podrían haberse planteado sin conocer las bases\n",
        "de la tecnología de la extracción de conocimiento a partir de datos.\n",
        "La necesidad o el interés, ante un problema concreto, es una manera habitual de\n",
        "reciclarse y de aprender una nueva tecnología. No obstante, la anticipación o la\n",
        "preparación es otra razón muy importante para adquirir un determinado conocimiento. No\n",
        "es de extrañar, por ello, que cada día existan más materias y contenidos sobre “minería de\n",
        "datos” en estudios de nivel superior, sean grados universitarios o másteres, así como en\n",
        "cursos organizados por empresas acerca de esta tecnología (generalmente centrada en sus\n",
        "propias herramientas). Aparecen por tanto un sinfín de asignaturas obligatorias u optativas\n",
        "en estudios informáticos, ingenieriles, empresariales, de ciencias de la salud y ciencias\n",
        "sociales, y muchos otros, como complemento o como alternativa a las materias más clásicas\n",
        "de estadística que, hasta ahora, estaban más bien centradas en la validación de hipótesis\n",
        "bajo diferentes distribuciones, la teoría de la probabilidad, el análisis multivariante, los\n",
        "estudios correlacionales o el análisis de la varianza.\"\"\")\n",
        "long_media = procesador_prueba.calcular_longitud_media()\n",
        "print(f\"La longitud media de las palabras es: {long_media:.2f}\") # :.2f formatea a 2 decimales"
      ],
      "metadata": {
        "id": "TkcXNML8HapM",
        "colab": {
          "base_uri": "https://localhost:8080/"
        },
        "outputId": "c11358ca-3589-48b3-ba36-c6eb3a2f1f6a"
      },
      "execution_count": null,
      "outputs": [
        {
          "output_type": "stream",
          "name": "stdout",
          "text": [
            "La longitud media de las palabras es: 5.53\n"
          ]
        }
      ]
    },
    {
      "cell_type": "markdown",
      "source": [
        "✅ En resumen\n",
        "\n",
        "Método---------------------------¿Para qué sirve?------------------------Concepto PLN\n",
        "\n",
        "__init__-------------------------------Preprocesar y tokenizar texto-----------Normalización\n",
        "\n",
        "contar_palabras\t------------------Total de palabras\t-----------------------Longitud de documento\n",
        "\n",
        "contar_palabras_unicas-----------Diversidad léxica------------------------Vocabulario\n",
        "\n",
        "contiene--------------------------Buscar términos------------------------Búsqueda semántica\n",
        "\n",
        "calcular_frecuencia---------------Frecuencia léxica-----------------------Bolsa de palabras\n",
        "\n",
        "calcular_longitud_media----------Complejidad léxica----------------------Métrica de estilo"
      ],
      "metadata": {
        "id": "U36Pn84u1hPk"
      }
    },
    {
      "cell_type": "markdown",
      "source": [
        "---\n",
        "## Glosario Rápido de la Clase 2\n",
        "\n",
        "* **Método**: Una función que \"pertenece\" a un objeto (ej: `mi_texto.strip()`).\n",
        "* **Clase**: El \"plano\" o plantilla para crear objetos. Define sus atributos y métodos.\n",
        "* **Objeto/Instancia**: Una entidad concreta creada a partir de una clase.\n",
        "* **Atributo**: Una variable que \"pertenece\" a un objeto (ej: `procesador.palabras`).\n",
        "* **`self`**: Palabra clave dentro de una clase que se refiere a la instancia actual del objeto.\n",
        "* **POO (Programación Orientada a Objetos)**: Un estilo de programación basado en la idea de agrupar datos y funciones en objetos.\n",
        "---"
      ],
      "metadata": {
        "id": "m7ugpW26Irjv"
      }
    }
  ]
}