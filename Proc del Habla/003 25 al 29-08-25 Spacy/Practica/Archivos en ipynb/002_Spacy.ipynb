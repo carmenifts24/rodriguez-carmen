{
  "nbformat": 4,
  "nbformat_minor": 0,
  "metadata": {
    "colab": {
      "provenance": []
    },
    "kernelspec": {
      "name": "python3",
      "display_name": "Python 3"
    },
    "language_info": {
      "name": "python"
    }
  },
  "cells": [
    {
      "cell_type": "code",
      "source": [
        "#🧠 Estas líneas instalan herramientas externas:\n",
        "#watermark: opcional, para ver versiones de librerías (no se usa en el código).\n",
        "#spacy: biblioteca principal.\n",
        "#es_core_news_sm: modelo de lenguaje en español (versión pequeña)."
      ],
      "metadata": {
        "id": "9SbVXW2Auc2l"
      },
      "execution_count": null,
      "outputs": []
    },
    {
      "cell_type": "code",
      "execution_count": 23,
      "metadata": {
        "id": "G6ZJE1ifYLUS"
      },
      "outputs": [],
      "source": [
        "!pip install watermark -q"
      ]
    },
    {
      "cell_type": "code",
      "source": [
        "!pip install spacy -q"
      ],
      "metadata": {
        "id": "sH75BW_vZmJj"
      },
      "execution_count": 24,
      "outputs": []
    },
    {
      "cell_type": "code",
      "source": [
        "%load_ext watermark\n",
        "%watermark\n",
        "%watermark --iversions"
      ],
      "metadata": {
        "id": "E-UP2VduZIjM",
        "colab": {
          "base_uri": "https://localhost:8080/"
        },
        "outputId": "f65ae48c-8c22-4110-b2e1-f156cc591ea4"
      },
      "execution_count": 25,
      "outputs": [
        {
          "output_type": "stream",
          "name": "stdout",
          "text": [
            "The watermark extension is already loaded. To reload it, use:\n",
            "  %reload_ext watermark\n",
            "Last updated: 2025-09-15T00:56:13.309515+00:00\n",
            "\n",
            "Python implementation: CPython\n",
            "Python version       : 3.12.11\n",
            "IPython version      : 7.34.0\n",
            "\n",
            "Compiler    : GCC 11.4.0\n",
            "OS          : Linux\n",
            "Release     : 6.1.123+\n",
            "Machine     : x86_64\n",
            "Processor   : x86_64\n",
            "CPU cores   : 2\n",
            "Architecture: 64bit\n",
            "\n",
            "es_core_news_sm: 3.8.0\n",
            "spacy          : 3.8.7\n",
            "\n"
          ]
        }
      ]
    },
    {
      "cell_type": "code",
      "source": [
        "!python -m spacy download es_core_news_sm -q"
      ],
      "metadata": {
        "id": "OponjIHpZp7j",
        "colab": {
          "base_uri": "https://localhost:8080/"
        },
        "outputId": "d0fd4a70-cd6c-4fbb-bed3-0bfae22daa44"
      },
      "execution_count": 26,
      "outputs": [
        {
          "output_type": "stream",
          "name": "stdout",
          "text": [
            "\u001b[2K     \u001b[90m━━━━━━━━━━━━━━━━━━━━━━━━━━━━━━━━━━━━━━━━\u001b[0m \u001b[32m12.9/12.9 MB\u001b[0m \u001b[31m37.8 MB/s\u001b[0m eta \u001b[36m0:00:00\u001b[0m\n",
            "\u001b[?25h\u001b[38;5;2m✔ Download and installation successful\u001b[0m\n",
            "You can now load the package via spacy.load('es_core_news_sm')\n",
            "\u001b[38;5;3m⚠ Restart to reload dependencies\u001b[0m\n",
            "If you are in a Jupyter or Colab notebook, you may need to restart Python in\n",
            "order to load all the package's dependencies. You can do this by selecting the\n",
            "'Restart kernel' or 'Restart runtime' option.\n"
          ]
        }
      ]
    },
    {
      "cell_type": "code",
      "source": [
        "import spacy"
      ],
      "metadata": {
        "id": "e7I_GB_EZxO4"
      },
      "execution_count": 27,
      "outputs": []
    },
    {
      "cell_type": "code",
      "source": [
        "import spacy\n",
        "from spacy import displacy\n",
        "\n",
        "nlp = spacy.load(\"es_core_news_sm\")\n",
        "import es_core_news_sm\n",
        "nlp = es_core_news_sm.load()\n",
        "# Importamos spaCy y cargamos el modelo entrenado en español \"es_core_news_sm\".\n",
        "# Este modelo permite hacer tokenización, lematización, POS tagging, NER y más."
      ],
      "metadata": {
        "id": "FMptUiDxonAy"
      },
      "execution_count": 41,
      "outputs": []
    },
    {
      "cell_type": "markdown",
      "source": [
        "## 🟩 CASO 1: Tokenización, lematización y POS tagging"
      ],
      "metadata": {
        "id": "WnbRl9YvqATr"
      }
    },
    {
      "cell_type": "code",
      "source": [
        "doc = nlp(u'Yo, Matías Barreto, estoy volando hacia Buenos Aires.')\n",
        "print([w.text for w in doc])\n",
        "\n",
        "#🔍 Muestra los tokens (palabras individuales), correctamente segmentados."
      ],
      "metadata": {
        "id": "E2Sj7MXlZ08E",
        "colab": {
          "base_uri": "https://localhost:8080/"
        },
        "outputId": "12a85788-379b-4bca-e2f6-c132fd2fa976"
      },
      "execution_count": 29,
      "outputs": [
        {
          "output_type": "stream",
          "name": "stdout",
          "text": [
            "['Yo', ',', 'Matías', 'Barreto', ',', 'estoy', 'volando', 'hacia', 'Buenos', 'Aires', '.']\n"
          ]
        }
      ]
    },
    {
      "cell_type": "code",
      "source": [
        "# Length of sentence\n",
        "print(\"La cantidad de tokens es: \", len(doc))\n",
        "#👉 Cuenta cuántos tokens hay en el documento."
      ],
      "metadata": {
        "id": "qIgo7RQvaG0L",
        "colab": {
          "base_uri": "https://localhost:8080/"
        },
        "outputId": "f5f0b510-df1d-4341-afa0-243b54b7c305"
      },
      "execution_count": 30,
      "outputs": [
        {
          "output_type": "stream",
          "name": "stdout",
          "text": [
            "La cantidad de tokens es:  11\n"
          ]
        }
      ]
    },
    {
      "cell_type": "code",
      "source": [
        "# Print individual words (i.e., tokens)\n",
        "print(\"Los tokens son: \\n\" + \"_\" * 20 + \"\\n\")\n",
        "for words in doc:\n",
        "    print(words)\n",
        "    #👉 Imprime cada palabra/token como un objeto Token."
      ],
      "metadata": {
        "id": "GE4EjJ13pUqR",
        "colab": {
          "base_uri": "https://localhost:8080/"
        },
        "outputId": "6fba86ab-b8a6-4322-80dd-a7e6a6d63dff"
      },
      "execution_count": 31,
      "outputs": [
        {
          "output_type": "stream",
          "name": "stdout",
          "text": [
            "Los tokens son: \n",
            "____________________\n",
            "\n",
            "Yo\n",
            ",\n",
            "Matías\n",
            "Barreto\n",
            ",\n",
            "estoy\n",
            "volando\n",
            "hacia\n",
            "Buenos\n",
            "Aires\n",
            ".\n"
          ]
        }
      ]
    },
    {
      "cell_type": "code",
      "source": [
        "for token in doc:\n",
        "  print(token.text, token.lemma_)\n",
        "  #👉 Muestra el lema de cada token (forma base)."
      ],
      "metadata": {
        "id": "QtVw-81CpwIj",
        "colab": {
          "base_uri": "https://localhost:8080/"
        },
        "outputId": "96c53ba3-b6c7-4253-bf99-dd7d3f5250f5"
      },
      "execution_count": 32,
      "outputs": [
        {
          "output_type": "stream",
          "name": "stdout",
          "text": [
            "Yo yo\n",
            ", ,\n",
            "Matías Matías\n",
            "Barreto Barreto\n",
            ", ,\n",
            "estoy estar\n",
            "volando volar\n",
            "hacia hacia\n",
            "Buenos Buenos\n",
            "Aires Aires\n",
            ". .\n"
          ]
        }
      ]
    },
    {
      "cell_type": "code",
      "source": [
        "# Iterar sobre los tokens en el documento y mostrar el texto y su etiqueta POS\n",
        "for token in doc:\n",
        "    print(token.text, token.pos_, spacy.explain(token.pos_))\n",
        "\n",
        "\n",
        "#👉 Muestra: La palabra. Su categoría gramatical (POS): NOUN, VERB, etc. La explicación textual de esa etiqueta\n",
        "# Aplicamos tokenización, lematización y POS tagging sobre el texto.\n",
        "# Imprimimos cada palabra con su forma base (lema) y su categoría gramatical.\n"
      ],
      "metadata": {
        "id": "V4Ej8SLNnJ73",
        "colab": {
          "base_uri": "https://localhost:8080/"
        },
        "outputId": "06635085-4f10-4a8a-acd8-36674c4e8a12"
      },
      "execution_count": 33,
      "outputs": [
        {
          "output_type": "stream",
          "name": "stdout",
          "text": [
            "Yo PRON pronoun\n",
            ", PUNCT punctuation\n",
            "Matías PROPN proper noun\n",
            "Barreto PROPN proper noun\n",
            ", PUNCT punctuation\n",
            "estoy AUX auxiliary\n",
            "volando VERB verb\n",
            "hacia ADP adposition\n",
            "Buenos PROPN proper noun\n",
            "Aires PROPN proper noun\n",
            ". PUNCT punctuation\n"
          ]
        }
      ]
    },
    {
      "cell_type": "code",
      "source": [
        "from collections import Counter"
      ],
      "metadata": {
        "id": "lkNXIwoNqSjG"
      },
      "execution_count": 34,
      "outputs": []
    },
    {
      "cell_type": "code",
      "source": [
        "word_freq = Counter(doc)\n",
        "print(word_freq)\n",
        "#👉 Intenta contar la frecuencia de tokens. Pero Counter(doc) cuenta objetos Token, no texto, así que no da frecuencias legibles directamente."
      ],
      "metadata": {
        "id": "ueuaUKa4qUyj",
        "colab": {
          "base_uri": "https://localhost:8080/"
        },
        "outputId": "6b75702b-4cca-4bbd-da35-6fbfd45175c3"
      },
      "execution_count": 35,
      "outputs": [
        {
          "output_type": "stream",
          "name": "stdout",
          "text": [
            "Counter({Yo: 1, ,: 1, Matías: 1, Barreto: 1, ,: 1, estoy: 1, volando: 1, hacia: 1, Buenos: 1, Aires: 1, .: 1})\n"
          ]
        }
      ]
    },
    {
      "cell_type": "code",
      "source": [
        "#otra opción para hacerlo\n",
        "word_freq = Counter([token.text.lower() for token in doc if not token.is_punct])\n",
        "print(word_freq)"
      ],
      "metadata": {
        "colab": {
          "base_uri": "https://localhost:8080/"
        },
        "id": "VJSElGbg1l7Y",
        "outputId": "8d737dc8-4a0a-4990-f31c-b2781f12de04"
      },
      "execution_count": 36,
      "outputs": [
        {
          "output_type": "stream",
          "name": "stdout",
          "text": [
            "Counter({'yo': 1, 'matías': 1, 'barreto': 1, 'estoy': 1, 'volando': 1, 'hacia': 1, 'buenos': 1, 'aires': 1})\n"
          ]
        }
      ]
    },
    {
      "cell_type": "markdown",
      "source": [
        "## 🟦 CASO 2: Más lematización + dependencias"
      ],
      "metadata": {
        "id": "W5GDn44hqEgC"
      }
    },
    {
      "cell_type": "code",
      "source": [
        "doc = nlp(u'En Septiembre de 2025 estaremos realizando una introducción a spaCy para trabajar conceptos basicos de PNL')\n",
        "for token in doc:\n",
        "  print(token.text, token.lemma_)\n",
        "\n",
        "#👉 Procesa un texto más largo y muestra las formas base (lemas)."
      ],
      "metadata": {
        "id": "vhrutm8jZ456",
        "colab": {
          "base_uri": "https://localhost:8080/"
        },
        "outputId": "d9c587e0-26be-4ca7-8b0b-f5ac65cdf3b5"
      },
      "execution_count": 37,
      "outputs": [
        {
          "output_type": "stream",
          "name": "stdout",
          "text": [
            "En en\n",
            "Septiembre septiembre\n",
            "de de\n",
            "2025 2025\n",
            "estaremos estarer\n",
            "realizando realizar\n",
            "una uno\n",
            "introducción introducción\n",
            "a a\n",
            "spaCy spaCy\n",
            "para para\n",
            "trabajar trabajar\n",
            "conceptos concepto\n",
            "basicos basico\n",
            "de de\n",
            "PNL PNL\n"
          ]
        }
      ]
    },
    {
      "cell_type": "code",
      "source": [
        "from spacy.lang.es.examples import sentences\n",
        "\n",
        "doc = nlp(sentences[11])\n",
        "print(doc.text)\n",
        "for token in doc:\n",
        "    print(token.text, token.pos_, token.dep_)\n",
        "\n",
        "#🔍 Muestra el texto ejemplo sentences[11] del modelo en español y para cada palabra:\n",
        "#pos_: categoría gramatical\n",
        "#dep_: relación sintáctica (sujeto, verbo raíz, modificador, etc.)"
      ],
      "metadata": {
        "id": "uUE5NFzqyK9b",
        "colab": {
          "base_uri": "https://localhost:8080/"
        },
        "outputId": "319936fa-d1eb-46b4-a596-3f6f67eac5e0"
      },
      "execution_count": 38,
      "outputs": [
        {
          "output_type": "stream",
          "name": "stdout",
          "text": [
            "¿Cuándo nació José de San Martín?\n",
            "¿ PUNCT punct\n",
            "Cuándo PRON obj\n",
            "nació VERB ROOT\n",
            "José PROPN nsubj\n",
            "de ADP case\n",
            "San PROPN flat\n",
            "Martín PROPN flat\n",
            "? PUNCT punct\n"
          ]
        }
      ]
    },
    {
      "cell_type": "code",
      "source": [
        "word_freq = Counter(doc)\n",
        "print(word_freq)#frecuencia de aparición de cada palabra"
      ],
      "metadata": {
        "id": "xoVm0gpxaR0u",
        "colab": {
          "base_uri": "https://localhost:8080/"
        },
        "outputId": "e6498f20-2f36-4d99-db53-2066ccdeb21d"
      },
      "execution_count": 39,
      "outputs": [
        {
          "output_type": "stream",
          "name": "stdout",
          "text": [
            "Counter({¿: 1, Cuándo: 1, nació: 1, José: 1, de: 1, San: 1, Martín: 1, ?: 1})\n"
          ]
        }
      ]
    },
    {
      "cell_type": "code",
      "source": [
        "displacy.render(doc, style='dep', jupyter=True, options={'distance': 120})\n",
        "#🔍 Visualiza las relaciones de dependencia sintáctica entre palabras.\n",
        "# Utilizamos displacy para mostrar visualmente la estructura sintáctica del texto.\n"
      ],
      "metadata": {
        "id": "L19H3yIKysQP",
        "colab": {
          "base_uri": "https://localhost:8080/",
          "height": 279
        },
        "outputId": "5febb9fb-9404-4c4e-91ee-e0a6d9e16e02"
      },
      "execution_count": 43,
      "outputs": [
        {
          "output_type": "display_data",
          "data": {
            "text/plain": [
              "<IPython.core.display.HTML object>"
            ],
            "text/html": [
              "<span class=\"tex2jax_ignore\"><svg xmlns=\"http://www.w3.org/2000/svg\" xmlns:xlink=\"http://www.w3.org/1999/xlink\" xml:lang=\"es\" id=\"26439e5307c648b3b389172b21719e8b-0\" class=\"displacy\" width=\"890\" height=\"257.0\" direction=\"ltr\" style=\"max-width: none; height: 257.0px; color: #000000; background: #ffffff; font-family: Arial; direction: ltr\">\n",
              "<text class=\"displacy-token\" fill=\"currentColor\" text-anchor=\"middle\" y=\"167.0\">\n",
              "    <tspan class=\"displacy-word\" fill=\"currentColor\" x=\"50\">¿</tspan>\n",
              "    <tspan class=\"displacy-tag\" dy=\"2em\" fill=\"currentColor\" x=\"50\">PUNCT</tspan>\n",
              "</text>\n",
              "\n",
              "<text class=\"displacy-token\" fill=\"currentColor\" text-anchor=\"middle\" y=\"167.0\">\n",
              "    <tspan class=\"displacy-word\" fill=\"currentColor\" x=\"170\">Cuándo</tspan>\n",
              "    <tspan class=\"displacy-tag\" dy=\"2em\" fill=\"currentColor\" x=\"170\">PRON</tspan>\n",
              "</text>\n",
              "\n",
              "<text class=\"displacy-token\" fill=\"currentColor\" text-anchor=\"middle\" y=\"167.0\">\n",
              "    <tspan class=\"displacy-word\" fill=\"currentColor\" x=\"290\">nació</tspan>\n",
              "    <tspan class=\"displacy-tag\" dy=\"2em\" fill=\"currentColor\" x=\"290\">VERB</tspan>\n",
              "</text>\n",
              "\n",
              "<text class=\"displacy-token\" fill=\"currentColor\" text-anchor=\"middle\" y=\"167.0\">\n",
              "    <tspan class=\"displacy-word\" fill=\"currentColor\" x=\"410\">José</tspan>\n",
              "    <tspan class=\"displacy-tag\" dy=\"2em\" fill=\"currentColor\" x=\"410\">PROPN</tspan>\n",
              "</text>\n",
              "\n",
              "<text class=\"displacy-token\" fill=\"currentColor\" text-anchor=\"middle\" y=\"167.0\">\n",
              "    <tspan class=\"displacy-word\" fill=\"currentColor\" x=\"530\">de</tspan>\n",
              "    <tspan class=\"displacy-tag\" dy=\"2em\" fill=\"currentColor\" x=\"530\">ADP</tspan>\n",
              "</text>\n",
              "\n",
              "<text class=\"displacy-token\" fill=\"currentColor\" text-anchor=\"middle\" y=\"167.0\">\n",
              "    <tspan class=\"displacy-word\" fill=\"currentColor\" x=\"650\">San</tspan>\n",
              "    <tspan class=\"displacy-tag\" dy=\"2em\" fill=\"currentColor\" x=\"650\">PROPN</tspan>\n",
              "</text>\n",
              "\n",
              "<text class=\"displacy-token\" fill=\"currentColor\" text-anchor=\"middle\" y=\"167.0\">\n",
              "    <tspan class=\"displacy-word\" fill=\"currentColor\" x=\"770\">Martín?</tspan>\n",
              "    <tspan class=\"displacy-tag\" dy=\"2em\" fill=\"currentColor\" x=\"770\">PROPN</tspan>\n",
              "</text>\n",
              "\n",
              "<g class=\"displacy-arrow\">\n",
              "    <path class=\"displacy-arc\" id=\"arrow-26439e5307c648b3b389172b21719e8b-0-0\" stroke-width=\"2px\" d=\"M70,122.0 C70,2.0 290.0,2.0 290.0,122.0\" fill=\"none\" stroke=\"currentColor\"/>\n",
              "    <text dy=\"1.25em\" style=\"font-size: 0.8em; letter-spacing: 1px\">\n",
              "        <textPath xlink:href=\"#arrow-26439e5307c648b3b389172b21719e8b-0-0\" class=\"displacy-label\" startOffset=\"50%\" side=\"left\" fill=\"currentColor\" text-anchor=\"middle\">punct</textPath>\n",
              "    </text>\n",
              "    <path class=\"displacy-arrowhead\" d=\"M70,124.0 L62,112.0 78,112.0\" fill=\"currentColor\"/>\n",
              "</g>\n",
              "\n",
              "<g class=\"displacy-arrow\">\n",
              "    <path class=\"displacy-arc\" id=\"arrow-26439e5307c648b3b389172b21719e8b-0-1\" stroke-width=\"2px\" d=\"M190,122.0 C190,62.0 285.0,62.0 285.0,122.0\" fill=\"none\" stroke=\"currentColor\"/>\n",
              "    <text dy=\"1.25em\" style=\"font-size: 0.8em; letter-spacing: 1px\">\n",
              "        <textPath xlink:href=\"#arrow-26439e5307c648b3b389172b21719e8b-0-1\" class=\"displacy-label\" startOffset=\"50%\" side=\"left\" fill=\"currentColor\" text-anchor=\"middle\">obj</textPath>\n",
              "    </text>\n",
              "    <path class=\"displacy-arrowhead\" d=\"M190,124.0 L182,112.0 198,112.0\" fill=\"currentColor\"/>\n",
              "</g>\n",
              "\n",
              "<g class=\"displacy-arrow\">\n",
              "    <path class=\"displacy-arc\" id=\"arrow-26439e5307c648b3b389172b21719e8b-0-2\" stroke-width=\"2px\" d=\"M310,122.0 C310,62.0 405.0,62.0 405.0,122.0\" fill=\"none\" stroke=\"currentColor\"/>\n",
              "    <text dy=\"1.25em\" style=\"font-size: 0.8em; letter-spacing: 1px\">\n",
              "        <textPath xlink:href=\"#arrow-26439e5307c648b3b389172b21719e8b-0-2\" class=\"displacy-label\" startOffset=\"50%\" side=\"left\" fill=\"currentColor\" text-anchor=\"middle\">nsubj</textPath>\n",
              "    </text>\n",
              "    <path class=\"displacy-arrowhead\" d=\"M405.0,124.0 L413.0,112.0 397.0,112.0\" fill=\"currentColor\"/>\n",
              "</g>\n",
              "\n",
              "<g class=\"displacy-arrow\">\n",
              "    <path class=\"displacy-arc\" id=\"arrow-26439e5307c648b3b389172b21719e8b-0-3\" stroke-width=\"2px\" d=\"M550,122.0 C550,62.0 645.0,62.0 645.0,122.0\" fill=\"none\" stroke=\"currentColor\"/>\n",
              "    <text dy=\"1.25em\" style=\"font-size: 0.8em; letter-spacing: 1px\">\n",
              "        <textPath xlink:href=\"#arrow-26439e5307c648b3b389172b21719e8b-0-3\" class=\"displacy-label\" startOffset=\"50%\" side=\"left\" fill=\"currentColor\" text-anchor=\"middle\">case</textPath>\n",
              "    </text>\n",
              "    <path class=\"displacy-arrowhead\" d=\"M550,124.0 L542,112.0 558,112.0\" fill=\"currentColor\"/>\n",
              "</g>\n",
              "\n",
              "<g class=\"displacy-arrow\">\n",
              "    <path class=\"displacy-arc\" id=\"arrow-26439e5307c648b3b389172b21719e8b-0-4\" stroke-width=\"2px\" d=\"M430,122.0 C430,2.0 650.0,2.0 650.0,122.0\" fill=\"none\" stroke=\"currentColor\"/>\n",
              "    <text dy=\"1.25em\" style=\"font-size: 0.8em; letter-spacing: 1px\">\n",
              "        <textPath xlink:href=\"#arrow-26439e5307c648b3b389172b21719e8b-0-4\" class=\"displacy-label\" startOffset=\"50%\" side=\"left\" fill=\"currentColor\" text-anchor=\"middle\">flat</textPath>\n",
              "    </text>\n",
              "    <path class=\"displacy-arrowhead\" d=\"M650.0,124.0 L658.0,112.0 642.0,112.0\" fill=\"currentColor\"/>\n",
              "</g>\n",
              "\n",
              "<g class=\"displacy-arrow\">\n",
              "    <path class=\"displacy-arc\" id=\"arrow-26439e5307c648b3b389172b21719e8b-0-5\" stroke-width=\"2px\" d=\"M670,122.0 C670,62.0 765.0,62.0 765.0,122.0\" fill=\"none\" stroke=\"currentColor\"/>\n",
              "    <text dy=\"1.25em\" style=\"font-size: 0.8em; letter-spacing: 1px\">\n",
              "        <textPath xlink:href=\"#arrow-26439e5307c648b3b389172b21719e8b-0-5\" class=\"displacy-label\" startOffset=\"50%\" side=\"left\" fill=\"currentColor\" text-anchor=\"middle\">flat</textPath>\n",
              "    </text>\n",
              "    <path class=\"displacy-arrowhead\" d=\"M765.0,124.0 L773.0,112.0 757.0,112.0\" fill=\"currentColor\"/>\n",
              "</g>\n",
              "</svg></span>"
            ]
          },
          "metadata": {}
        }
      ]
    },
    {
      "cell_type": "markdown",
      "source": [
        "## 🟧 CASO 3: Reconocimiento de entidades nombradas (NER)"
      ],
      "metadata": {
        "id": "dC5GPSd6qq9k"
      }
    },
    {
      "cell_type": "code",
      "source": [
        "# from spacy import displacy # Moved to cell FMptUiDxonAy"
      ],
      "metadata": {
        "id": "MkH-S-r-aUOA"
      },
      "execution_count": 42,
      "outputs": []
    },
    {
      "cell_type": "code",
      "source": [
        "text = \"Queremos viajar desde Buenos Aires a Mar del Plata y unos dias depues a La Plata\"\n",
        "doc = nlp(text)\n",
        "displacy.render(doc,style='ent',jupyter=True,options={'distance':200})\n",
        "#👉 Visualiza las entidades encontradas: Buenos Aires, Mar del Plata, La Plata → ubicaciones"
      ],
      "metadata": {
        "id": "Pd7BK_FfaWp3",
        "colab": {
          "base_uri": "https://localhost:8080/",
          "height": 52
        },
        "outputId": "8371c9ee-ea42-4d15-8564-c652f733ac9f"
      },
      "execution_count": 44,
      "outputs": [
        {
          "output_type": "display_data",
          "data": {
            "text/plain": [
              "<IPython.core.display.HTML object>"
            ],
            "text/html": [
              "<span class=\"tex2jax_ignore\"><div class=\"entities\" style=\"line-height: 2.5; direction: ltr\">Queremos viajar desde \n",
              "<mark class=\"entity\" style=\"background: #ff9561; padding: 0.45em 0.6em; margin: 0 0.25em; line-height: 1; border-radius: 0.35em;\">\n",
              "    Buenos Aires\n",
              "    <span style=\"font-size: 0.8em; font-weight: bold; line-height: 1; border-radius: 0.35em; vertical-align: middle; margin-left: 0.5rem\">LOC</span>\n",
              "</mark>\n",
              " a \n",
              "<mark class=\"entity\" style=\"background: #ff9561; padding: 0.45em 0.6em; margin: 0 0.25em; line-height: 1; border-radius: 0.35em;\">\n",
              "    Mar del Plata\n",
              "    <span style=\"font-size: 0.8em; font-weight: bold; line-height: 1; border-radius: 0.35em; vertical-align: middle; margin-left: 0.5rem\">LOC</span>\n",
              "</mark>\n",
              " y unos dias depues a \n",
              "<mark class=\"entity\" style=\"background: #ff9561; padding: 0.45em 0.6em; margin: 0 0.25em; line-height: 1; border-radius: 0.35em;\">\n",
              "    La Plata\n",
              "    <span style=\"font-size: 0.8em; font-weight: bold; line-height: 1; border-radius: 0.35em; vertical-align: middle; margin-left: 0.5rem\">LOC</span>\n",
              "</mark>\n",
              "</div></span>"
            ]
          },
          "metadata": {}
        }
      ]
    },
    {
      "cell_type": "code",
      "source": [
        "text = \"Su nombre es Benjamin; nació en Argentina.\"\n",
        "doc = nlp(text)\n",
        "displacy.render(doc,style='ent',jupyter=True,options={'distance':200})\n",
        "#👉 Detecta nombres propios (Benjamin) y países (Argentina)."
      ],
      "metadata": {
        "id": "5Tcs0F7VtiHy",
        "colab": {
          "base_uri": "https://localhost:8080/",
          "height": 52
        },
        "outputId": "0913170b-8495-4ad7-b4d9-dca72040ed38"
      },
      "execution_count": 45,
      "outputs": [
        {
          "output_type": "display_data",
          "data": {
            "text/plain": [
              "<IPython.core.display.HTML object>"
            ],
            "text/html": [
              "<span class=\"tex2jax_ignore\"><div class=\"entities\" style=\"line-height: 2.5; direction: ltr\">Su nombre es \n",
              "<mark class=\"entity\" style=\"background: #ff9561; padding: 0.45em 0.6em; margin: 0 0.25em; line-height: 1; border-radius: 0.35em;\">\n",
              "    Benjamin\n",
              "    <span style=\"font-size: 0.8em; font-weight: bold; line-height: 1; border-radius: 0.35em; vertical-align: middle; margin-left: 0.5rem\">LOC</span>\n",
              "</mark>\n",
              "; nació en \n",
              "<mark class=\"entity\" style=\"background: #ff9561; padding: 0.45em 0.6em; margin: 0 0.25em; line-height: 1; border-radius: 0.35em;\">\n",
              "    Argentina\n",
              "    <span style=\"font-size: 0.8em; font-weight: bold; line-height: 1; border-radius: 0.35em; vertical-align: middle; margin-left: 0.5rem\">LOC</span>\n",
              "</mark>\n",
              ".</div></span>"
            ]
          },
          "metadata": {}
        }
      ]
    },
    {
      "cell_type": "code",
      "source": [
        "displacy.render(doc, style='dep', jupyter=True, options={'distance': 120})\n",
        "\n",
        "# Mostramos entidades nombradas (personas, lugares, fechas) reconocidas automáticamente por spaCy.\n",
        "#👉 Alterna entre visualización de entidades (ent) y de dependencias (dep)."
      ],
      "metadata": {
        "id": "Uh8RTazpzAXq",
        "colab": {
          "base_uri": "https://localhost:8080/",
          "height": 279
        },
        "outputId": "cc0d0806-4bd0-4160-999f-816ba77e4aed"
      },
      "execution_count": 47,
      "outputs": [
        {
          "output_type": "display_data",
          "data": {
            "text/plain": [
              "<IPython.core.display.HTML object>"
            ],
            "text/html": [
              "<span class=\"tex2jax_ignore\"><svg xmlns=\"http://www.w3.org/2000/svg\" xmlns:xlink=\"http://www.w3.org/1999/xlink\" xml:lang=\"es\" id=\"023ae7db68dc4f0f9bedfc3810dfb40a-0\" class=\"displacy\" width=\"890\" height=\"257.0\" direction=\"ltr\" style=\"max-width: none; height: 257.0px; color: #000000; background: #ffffff; font-family: Arial; direction: ltr\">\n",
              "<text class=\"displacy-token\" fill=\"currentColor\" text-anchor=\"middle\" y=\"167.0\">\n",
              "    <tspan class=\"displacy-word\" fill=\"currentColor\" x=\"50\">Su</tspan>\n",
              "    <tspan class=\"displacy-tag\" dy=\"2em\" fill=\"currentColor\" x=\"50\">DET</tspan>\n",
              "</text>\n",
              "\n",
              "<text class=\"displacy-token\" fill=\"currentColor\" text-anchor=\"middle\" y=\"167.0\">\n",
              "    <tspan class=\"displacy-word\" fill=\"currentColor\" x=\"170\">nombre</tspan>\n",
              "    <tspan class=\"displacy-tag\" dy=\"2em\" fill=\"currentColor\" x=\"170\">NOUN</tspan>\n",
              "</text>\n",
              "\n",
              "<text class=\"displacy-token\" fill=\"currentColor\" text-anchor=\"middle\" y=\"167.0\">\n",
              "    <tspan class=\"displacy-word\" fill=\"currentColor\" x=\"290\">es</tspan>\n",
              "    <tspan class=\"displacy-tag\" dy=\"2em\" fill=\"currentColor\" x=\"290\">AUX</tspan>\n",
              "</text>\n",
              "\n",
              "<text class=\"displacy-token\" fill=\"currentColor\" text-anchor=\"middle\" y=\"167.0\">\n",
              "    <tspan class=\"displacy-word\" fill=\"currentColor\" x=\"410\">Benjamin;</tspan>\n",
              "    <tspan class=\"displacy-tag\" dy=\"2em\" fill=\"currentColor\" x=\"410\">PROPN</tspan>\n",
              "</text>\n",
              "\n",
              "<text class=\"displacy-token\" fill=\"currentColor\" text-anchor=\"middle\" y=\"167.0\">\n",
              "    <tspan class=\"displacy-word\" fill=\"currentColor\" x=\"530\">nació</tspan>\n",
              "    <tspan class=\"displacy-tag\" dy=\"2em\" fill=\"currentColor\" x=\"530\">VERB</tspan>\n",
              "</text>\n",
              "\n",
              "<text class=\"displacy-token\" fill=\"currentColor\" text-anchor=\"middle\" y=\"167.0\">\n",
              "    <tspan class=\"displacy-word\" fill=\"currentColor\" x=\"650\">en</tspan>\n",
              "    <tspan class=\"displacy-tag\" dy=\"2em\" fill=\"currentColor\" x=\"650\">ADP</tspan>\n",
              "</text>\n",
              "\n",
              "<text class=\"displacy-token\" fill=\"currentColor\" text-anchor=\"middle\" y=\"167.0\">\n",
              "    <tspan class=\"displacy-word\" fill=\"currentColor\" x=\"770\">Argentina.</tspan>\n",
              "    <tspan class=\"displacy-tag\" dy=\"2em\" fill=\"currentColor\" x=\"770\">PROPN</tspan>\n",
              "</text>\n",
              "\n",
              "<g class=\"displacy-arrow\">\n",
              "    <path class=\"displacy-arc\" id=\"arrow-023ae7db68dc4f0f9bedfc3810dfb40a-0-0\" stroke-width=\"2px\" d=\"M70,122.0 C70,62.0 165.0,62.0 165.0,122.0\" fill=\"none\" stroke=\"currentColor\"/>\n",
              "    <text dy=\"1.25em\" style=\"font-size: 0.8em; letter-spacing: 1px\">\n",
              "        <textPath xlink:href=\"#arrow-023ae7db68dc4f0f9bedfc3810dfb40a-0-0\" class=\"displacy-label\" startOffset=\"50%\" side=\"left\" fill=\"currentColor\" text-anchor=\"middle\">det</textPath>\n",
              "    </text>\n",
              "    <path class=\"displacy-arrowhead\" d=\"M70,124.0 L62,112.0 78,112.0\" fill=\"currentColor\"/>\n",
              "</g>\n",
              "\n",
              "<g class=\"displacy-arrow\">\n",
              "    <path class=\"displacy-arc\" id=\"arrow-023ae7db68dc4f0f9bedfc3810dfb40a-0-1\" stroke-width=\"2px\" d=\"M190,122.0 C190,2.0 410.0,2.0 410.0,122.0\" fill=\"none\" stroke=\"currentColor\"/>\n",
              "    <text dy=\"1.25em\" style=\"font-size: 0.8em; letter-spacing: 1px\">\n",
              "        <textPath xlink:href=\"#arrow-023ae7db68dc4f0f9bedfc3810dfb40a-0-1\" class=\"displacy-label\" startOffset=\"50%\" side=\"left\" fill=\"currentColor\" text-anchor=\"middle\">nsubj</textPath>\n",
              "    </text>\n",
              "    <path class=\"displacy-arrowhead\" d=\"M190,124.0 L182,112.0 198,112.0\" fill=\"currentColor\"/>\n",
              "</g>\n",
              "\n",
              "<g class=\"displacy-arrow\">\n",
              "    <path class=\"displacy-arc\" id=\"arrow-023ae7db68dc4f0f9bedfc3810dfb40a-0-2\" stroke-width=\"2px\" d=\"M310,122.0 C310,62.0 405.0,62.0 405.0,122.0\" fill=\"none\" stroke=\"currentColor\"/>\n",
              "    <text dy=\"1.25em\" style=\"font-size: 0.8em; letter-spacing: 1px\">\n",
              "        <textPath xlink:href=\"#arrow-023ae7db68dc4f0f9bedfc3810dfb40a-0-2\" class=\"displacy-label\" startOffset=\"50%\" side=\"left\" fill=\"currentColor\" text-anchor=\"middle\">cop</textPath>\n",
              "    </text>\n",
              "    <path class=\"displacy-arrowhead\" d=\"M310,124.0 L302,112.0 318,112.0\" fill=\"currentColor\"/>\n",
              "</g>\n",
              "\n",
              "<g class=\"displacy-arrow\">\n",
              "    <path class=\"displacy-arc\" id=\"arrow-023ae7db68dc4f0f9bedfc3810dfb40a-0-3\" stroke-width=\"2px\" d=\"M430,122.0 C430,62.0 525.0,62.0 525.0,122.0\" fill=\"none\" stroke=\"currentColor\"/>\n",
              "    <text dy=\"1.25em\" style=\"font-size: 0.8em; letter-spacing: 1px\">\n",
              "        <textPath xlink:href=\"#arrow-023ae7db68dc4f0f9bedfc3810dfb40a-0-3\" class=\"displacy-label\" startOffset=\"50%\" side=\"left\" fill=\"currentColor\" text-anchor=\"middle\">nsubj</textPath>\n",
              "    </text>\n",
              "    <path class=\"displacy-arrowhead\" d=\"M430,124.0 L422,112.0 438,112.0\" fill=\"currentColor\"/>\n",
              "</g>\n",
              "\n",
              "<g class=\"displacy-arrow\">\n",
              "    <path class=\"displacy-arc\" id=\"arrow-023ae7db68dc4f0f9bedfc3810dfb40a-0-4\" stroke-width=\"2px\" d=\"M670,122.0 C670,62.0 765.0,62.0 765.0,122.0\" fill=\"none\" stroke=\"currentColor\"/>\n",
              "    <text dy=\"1.25em\" style=\"font-size: 0.8em; letter-spacing: 1px\">\n",
              "        <textPath xlink:href=\"#arrow-023ae7db68dc4f0f9bedfc3810dfb40a-0-4\" class=\"displacy-label\" startOffset=\"50%\" side=\"left\" fill=\"currentColor\" text-anchor=\"middle\">case</textPath>\n",
              "    </text>\n",
              "    <path class=\"displacy-arrowhead\" d=\"M670,124.0 L662,112.0 678,112.0\" fill=\"currentColor\"/>\n",
              "</g>\n",
              "\n",
              "<g class=\"displacy-arrow\">\n",
              "    <path class=\"displacy-arc\" id=\"arrow-023ae7db68dc4f0f9bedfc3810dfb40a-0-5\" stroke-width=\"2px\" d=\"M550,122.0 C550,2.0 770.0,2.0 770.0,122.0\" fill=\"none\" stroke=\"currentColor\"/>\n",
              "    <text dy=\"1.25em\" style=\"font-size: 0.8em; letter-spacing: 1px\">\n",
              "        <textPath xlink:href=\"#arrow-023ae7db68dc4f0f9bedfc3810dfb40a-0-5\" class=\"displacy-label\" startOffset=\"50%\" side=\"left\" fill=\"currentColor\" text-anchor=\"middle\">obl</textPath>\n",
              "    </text>\n",
              "    <path class=\"displacy-arrowhead\" d=\"M770.0,124.0 L778.0,112.0 762.0,112.0\" fill=\"currentColor\"/>\n",
              "</g>\n",
              "</svg></span>"
            ]
          },
          "metadata": {}
        }
      ]
    },
    {
      "cell_type": "markdown",
      "source": [
        "## 🟨 CASO 4: Chunking y Noun Phrases"
      ],
      "metadata": {
        "id": "DIatGR6l0A9e"
      }
    },
    {
      "cell_type": "code",
      "source": [
        "for token in nlp(\"Mis padres y amigos viven en Buenos Aires.\"):\n",
        "    print(token.text)"
      ],
      "metadata": {
        "id": "UInoA0jm0Cro",
        "colab": {
          "base_uri": "https://localhost:8080/"
        },
        "outputId": "609db6d5-41c7-4a83-f492-a7d7a78ee1ee"
      },
      "execution_count": 48,
      "outputs": [
        {
          "output_type": "stream",
          "name": "stdout",
          "text": [
            "Mis\n",
            "padres\n",
            "y\n",
            "amigos\n",
            "viven\n",
            "en\n",
            "Buenos\n",
            "Aires\n",
            ".\n"
          ]
        }
      ]
    },
    {
      "cell_type": "code",
      "source": [
        "for chunk in nlp(\"Mis padres y amigos viven en Buenos Aires.\").noun_chunks:\n",
        "      print(chunk.text)\n",
        "\n",
        "#👉 Se muestra: Cada token del texto\n",
        "#Y luego los \"noun chunks\", es decir, grupos de palabras que funcionan como sustantivos."
      ],
      "metadata": {
        "id": "afG9vo9x0R-1",
        "colab": {
          "base_uri": "https://localhost:8080/"
        },
        "outputId": "ab5d5789-2ff2-4cfe-cb44-e07fb48e9a5c"
      },
      "execution_count": null,
      "outputs": [
        {
          "output_type": "stream",
          "name": "stdout",
          "text": [
            "Mis padres\n",
            "amigos\n",
            "Buenos Aires\n"
          ]
        }
      ]
    },
    {
      "cell_type": "markdown",
      "source": [
        "## 🟥 CASO 5: Personalizar el pipeline de spaCy\n",
        "Detectar que \"Baires\" es \"Buenos Aires\""
      ],
      "metadata": {
        "id": "7gFuHVVqqv0W"
      }
    },
    {
      "cell_type": "code",
      "source": [
        "from spacy.symbols import ORTH, NORM"
      ],
      "metadata": {
        "id": "1SGQbJUDaaMC"
      },
      "execution_count": 50,
      "outputs": []
    },
    {
      "cell_type": "code",
      "source": [
        "doc = nlp(u\"Estoy volando hacia Baires\")\n",
        "print([w.text for w in doc])\n"
      ],
      "metadata": {
        "id": "He6gbguIabQW",
        "colab": {
          "base_uri": "https://localhost:8080/"
        },
        "outputId": "50b0d6b6-7db3-40c4-c827-34f7d0770cec"
      },
      "execution_count": 51,
      "outputs": [
        {
          "output_type": "stream",
          "name": "stdout",
          "text": [
            "['Estoy', 'volando', 'hacia', 'Baires']\n"
          ]
        }
      ]
    },
    {
      "cell_type": "code",
      "source": [
        "from spacy.language import Language\n",
        "from spacy.tokens import Token"
      ],
      "metadata": {
        "id": "uESY-lJ0adli"
      },
      "execution_count": 52,
      "outputs": []
    },
    {
      "cell_type": "code",
      "source": [
        "# Componente personalizado para asignar lemas específicos\n",
        "@Language.component(\"custom_lemmatizer\")\n",
        "def custom_lemmatizer(doc):\n",
        "    for token in doc:\n",
        "        if token.text == \"Baires\":\n",
        "            token.lemma_ = \"Buenos Aires\"\n",
        "    return doc\n",
        "    #👉 Crea un componente personalizado que modifica el lema de la palabra \"Baires\".\n",
        "\n",
        "# Remove the existing custom component if it exists\n",
        "if \"custom_lemmatizer\" in nlp.pipe_names:\n",
        "    nlp.remove_pipe(\"custom_lemmatizer\")\n",
        "\n",
        "# Añadir el componente al pipeline\n",
        "nlp.add_pipe(\"custom_lemmatizer\", after='lemmatizer')\n",
        "#👉 Se agrega al pipeline después del componente de lematización original.\n",
        "\n",
        "# Ejemplo de texto en español\n",
        "doc = nlp(u'Estoy volando a Baires')\n",
        "print([w.text for w in doc])\n",
        "print([w.lemma_ for w in doc])"
      ],
      "metadata": {
        "id": "d-GrUsA6aiO2",
        "colab": {
          "base_uri": "https://localhost:8080/"
        },
        "outputId": "c6846ee0-c848-480a-d2f1-6f89cd98054a"
      },
      "execution_count": 54,
      "outputs": [
        {
          "output_type": "stream",
          "name": "stdout",
          "text": [
            "['Estoy', 'volando', 'a', 'Baires']\n",
            "['estar', 'volar', 'a', 'Buenos Aires']\n"
          ]
        }
      ]
    }
  ]
}