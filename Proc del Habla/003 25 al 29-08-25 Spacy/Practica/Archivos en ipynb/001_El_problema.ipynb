{
  "nbformat": 4,
  "nbformat_minor": 0,
  "metadata": {
    "colab": {
      "provenance": []
    },
    "kernelspec": {
      "name": "python3",
      "display_name": "Python 3"
    },
    "language_info": {
      "name": "python"
    }
  },
  "cells": [
    {
      "cell_type": "markdown",
      "source": [
        "## Parte 1: El Problema - El Texto es solo una \"Sopa de Letras\" para la Computadora"
      ],
      "metadata": {
        "id": "5vgzHzYTTPht"
      }
    },
    {
      "cell_type": "code",
      "source": [
        "#texto = \"La CEO de ACME, Lisa Chang, viajará a México para supervisar los nuevos proyectos de energía renovable. Ella se mostró muy entusiasmada.\"\n",
        "texto = \"\"\"\n",
        "La inteligencia artificial transforma radicalmente la manera en que las organizaciones analizan información.\n",
        "Algoritmos complejos permiten automatizar procesos de recopilación, limpieza y visualización de datos heterogéneos.\n",
        "El aprendizaje automático, una subdisciplina fundamental, utiliza modelos estadísticos para identificar patrones,\n",
        "predecir comportamientos y optimizar decisiones estratégicas con eficiencia y precisión.\n",
        "\"\"\"\n",
        "print(texto)"
      ],
      "metadata": {
        "id": "poxsz5RsTPM_",
        "colab": {
          "base_uri": "https://localhost:8080/"
        },
        "outputId": "d9bfb741-ad31-48d0-889e-807a95c9bc06"
      },
      "execution_count": 12,
      "outputs": [
        {
          "output_type": "stream",
          "name": "stdout",
          "text": [
            "\n",
            "La inteligencia artificial transforma radicalmente la manera en que las organizaciones analizan información. \n",
            "Algoritmos complejos permiten automatizar procesos de recopilación, limpieza y visualización de datos heterogéneos.\n",
            "El aprendizaje automático, una subdisciplina fundamental, utiliza modelos estadísticos para identificar patrones, \n",
            "predecir comportamientos y optimizar decisiones estratégicas con eficiencia y precisión.\n",
            "\n"
          ]
        }
      ]
    },
    {
      "cell_type": "markdown",
      "source": [
        "¿Cómo contamos las palabras acá?\n",
        "len(texto) nos da los caracteres, no sirve. Podríamos usar texto.split(). Hagamos la prueba."
      ],
      "metadata": {
        "id": "7dnxcHgdTlyM"
      }
    },
    {
      "cell_type": "code",
      "execution_count": 13,
      "metadata": {
        "id": "nyx_TQMiTKL0",
        "colab": {
          "base_uri": "https://localhost:8080/"
        },
        "outputId": "f63a6cdd-b46c-4f59-cc5b-386a38ed3702"
      },
      "outputs": [
        {
          "output_type": "stream",
          "name": "stdout",
          "text": [
            "['La', 'inteligencia', 'artificial', 'transforma', 'radicalmente', 'la', 'manera', 'en', 'que', 'las', 'organizaciones', 'analizan', 'información.', 'Algoritmos', 'complejos', 'permiten', 'automatizar', 'procesos', 'de', 'recopilación,', 'limpieza', 'y', 'visualización', 'de', 'datos', 'heterogéneos.', 'El', 'aprendizaje', 'automático,', 'una', 'subdisciplina', 'fundamental,', 'utiliza', 'modelos', 'estadísticos', 'para', 'identificar', 'patrones,', 'predecir', 'comportamientos', 'y', 'optimizar', 'decisiones', 'estratégicas', 'con', 'eficiencia', 'y', 'precisión.']\n"
          ]
        }
      ],
      "source": [
        "palabras = texto.split()# Usar texto.split() divide el texto por espacios, pero no elimina puntuación ni entiende contexto.\n",
        "# Este enfoque básico no nos permite analizar con precisión nombres, verbos o entidades.\n",
        "print(palabras)\n",
        "\n",
        "#🧠 ¿Qué hace esto?\n",
        "#Divide el texto por espacios. Es una tokenización básica, sin comprender contexto.\n",
        "\n",
        "#🧱 Limitaciones:\n",
        "#\"ACME,\" y \"Chang,\" quedan con coma incluida → errores al comparar.\n",
        "#Verbos conjugados, artículos, puntuación... todo se trata como si fueran iguales.\n",
        "#Python no entiende roles gramaticales ni entidades.\n"
      ]
    },
    {
      "cell_type": "markdown",
      "source": [
        " Limitaciones (El \"Porqué\" necesitamos algo mejor):\n",
        "\n",
        "- \"ACME,\" y \"Chang,\" tienen la coma pegada. No son palabras \"limpias\".\n",
        "- \"La\" y \"los\" son artículos. viajará es una forma conjugada del verbo \"viajar\". ¿Cómo reducimos todo a su forma base para poder analizar frecuencias o temas?\n",
        "- ¿Cómo sabe la máquina que \"ACME\" es una organización y \"Lisa Chang\" es una persona? Para Python, ahora mismo, son solo cadenas de texto idénticas a \"proyectos\"."
      ],
      "metadata": {
        "id": "4oRYb1rST8ls"
      }
    },
    {
      "cell_type": "markdown",
      "source": [
        "## Parte 2: La Solución - spaCy, el Intérprete Lingüístico"
      ],
      "metadata": {
        "id": "it3o0f1bUYfx"
      }
    },
    {
      "cell_type": "code",
      "source": [
        "!pip install spacy -q\n",
        "!python -m spacy download es_core_news_sm -q"
      ],
      "metadata": {
        "id": "1SliLZKZUsNS",
        "colab": {
          "base_uri": "https://localhost:8080/"
        },
        "outputId": "ab66bb17-1a06-4779-a748-1e48c6b731bd"
      },
      "execution_count": 14,
      "outputs": [
        {
          "output_type": "stream",
          "name": "stdout",
          "text": [
            "\u001b[2K     \u001b[90m━━━━━━━━━━━━━━━━━━━━━━━━━━━━━━━━━━━━━━━━\u001b[0m \u001b[32m12.9/12.9 MB\u001b[0m \u001b[31m46.6 MB/s\u001b[0m eta \u001b[36m0:00:00\u001b[0m\n",
            "\u001b[?25h\u001b[38;5;2m✔ Download and installation successful\u001b[0m\n",
            "You can now load the package via spacy.load('es_core_news_sm')\n",
            "\u001b[38;5;3m⚠ Restart to reload dependencies\u001b[0m\n",
            "If you are in a Jupyter or Colab notebook, you may need to restart Python in\n",
            "order to load all the package's dependencies. You can do this by selecting the\n",
            "'Restart kernel' or 'Restart runtime' option.\n"
          ]
        }
      ]
    },
    {
      "cell_type": "code",
      "source": [
        "import spacy\n",
        "# spacy transforma el texto en un objeto \"Doc\", que contiene tokens, lemas, entidades, roles gramaticales y más.\n",
        "# Este procesamiento permite trabajar con el texto de forma estructurada y lingüísticamente informada.\n"
      ],
      "metadata": {
        "id": "yyoCL-ORhWQB"
      },
      "execution_count": 15,
      "outputs": []
    },
    {
      "cell_type": "code",
      "source": [
        "# Cargar el modelo de español\n",
        "nlp = spacy.load(\"es_core_news_sm\")#carga el modelo en español preentrenado.\n",
        "\n",
        "# Procesar nuestro texto\n",
        "doc = nlp(texto)#convierte el texto en un objeto Doc que spaCy puede analizar (tokenizar, etiquetar, lematizar, etc.)\n",
        "\n",
        "print(doc)\n"
      ],
      "metadata": {
        "id": "MhXs9MsLUmpJ",
        "colab": {
          "base_uri": "https://localhost:8080/"
        },
        "outputId": "89497790-4dcc-4ed1-c849-46434707f79a"
      },
      "execution_count": 16,
      "outputs": [
        {
          "output_type": "stream",
          "name": "stdout",
          "text": [
            "\n",
            "La inteligencia artificial transforma radicalmente la manera en que las organizaciones analizan información. \n",
            "Algoritmos complejos permiten automatizar procesos de recopilación, limpieza y visualización de datos heterogéneos.\n",
            "El aprendizaje automático, una subdisciplina fundamental, utiliza modelos estadísticos para identificar patrones, \n",
            "predecir comportamientos y optimizar decisiones estratégicas con eficiencia y precisión.\n",
            "\n"
          ]
        }
      ]
    },
    {
      "cell_type": "markdown",
      "source": [
        "## Parte 3: Desglosando el Objeto Doc - Los Fundamentos de NLP en Acción"
      ],
      "metadata": {
        "id": "9yyrvtyFVTEl"
      }
    },
    {
      "cell_type": "markdown",
      "source": [
        "**Tokenización (La Unidad Mínima)**\n",
        "\n",
        "Definición: Un token es la unidad mínima de texto con significado (una palabra, un número, un signo de puntuación)."
      ],
      "metadata": {
        "id": "nTc59wXtVbgk"
      }
    },
    {
      "cell_type": "code",
      "source": [
        "for token in doc:\n",
        "    print(token.text)\n",
        "\n",
        "#¿Qué es un token? Es la unidad mínima significativa del texto: puede ser una palabra, número o puntuación.\n",
        "# Cada token representa una palabra o signo de puntuación.\n",
        "# spaCy hace una tokenización inteligente, separando puntuación de las palabras.\n",
        ""
      ],
      "metadata": {
        "id": "JiXXBZmKVIYO",
        "colab": {
          "base_uri": "https://localhost:8080/"
        },
        "outputId": "c2b4e2d6-4443-4f84-d2f9-5c4f61ceacfe"
      },
      "execution_count": 17,
      "outputs": [
        {
          "output_type": "stream",
          "name": "stdout",
          "text": [
            "\n",
            "\n",
            "La\n",
            "inteligencia\n",
            "artificial\n",
            "transforma\n",
            "radicalmente\n",
            "la\n",
            "manera\n",
            "en\n",
            "que\n",
            "las\n",
            "organizaciones\n",
            "analizan\n",
            "información\n",
            ".\n",
            "\n",
            "\n",
            "Algoritmos\n",
            "complejos\n",
            "permiten\n",
            "automatizar\n",
            "procesos\n",
            "de\n",
            "recopilación\n",
            ",\n",
            "limpieza\n",
            "y\n",
            "visualización\n",
            "de\n",
            "datos\n",
            "heterogéneos\n",
            ".\n",
            "\n",
            "\n",
            "El\n",
            "aprendizaje\n",
            "automático\n",
            ",\n",
            "una\n",
            "subdisciplina\n",
            "fundamental\n",
            ",\n",
            "utiliza\n",
            "modelos\n",
            "estadísticos\n",
            "para\n",
            "identificar\n",
            "patrones\n",
            ",\n",
            "\n",
            "\n",
            "predecir\n",
            "comportamientos\n",
            "y\n",
            "optimizar\n",
            "decisiones\n",
            "estratégicas\n",
            "con\n",
            "eficiencia\n",
            "y\n",
            "precisión\n",
            ".\n",
            "\n",
            "\n"
          ]
        }
      ]
    },
    {
      "cell_type": "markdown",
      "source": [
        "**Lematización (La Raíz de la Palabra)**\n",
        "\n",
        "Definición: El \"lema\" es la forma canónica o de diccionario de una palabra. Es la clave para agrupar palabras con el mismo significado."
      ],
      "metadata": {
        "id": "Hr80_hU6Vm98"
      }
    },
    {
      "cell_type": "code",
      "source": [
        "print(\"PALABRA\\t\\tLEMA\")\n",
        "print(\"-------\\t\\t----\")\n",
        "for token in doc:\n",
        "    # Imprimimos el texto del token y su lema\n",
        "    print(f\"{token.text:<15}\\t{token.lemma_}\")\n",
        "\n",
        "# Lematización: reduce una palabra a su forma base.\n",
        "# Permite agrupar diferentes formas verbales o plurales para análisis más uniforme.\n",
        "#¿Qué es un lema? Es la forma base o de diccionario de una palabra. Ej: \"viajará\" → \"viajar\"\n",
        "#Muy útil para agrupar formas distintas de una palabra bajo el mismo concepto."
      ],
      "metadata": {
        "id": "zetn6uCBVzGb",
        "colab": {
          "base_uri": "https://localhost:8080/"
        },
        "outputId": "b2f94dc1-f7ba-4893-be45-7b54772f4f98"
      },
      "execution_count": 18,
      "outputs": [
        {
          "output_type": "stream",
          "name": "stdout",
          "text": [
            "PALABRA\t\tLEMA\n",
            "-------\t\t----\n",
            "\n",
            "              \t\n",
            "\n",
            "La             \tel\n",
            "inteligencia   \tinteligencia\n",
            "artificial     \tartificial\n",
            "transforma     \ttransformar\n",
            "radicalmente   \tradicalmente\n",
            "la             \tel\n",
            "manera         \tmanera\n",
            "en             \ten\n",
            "que            \tque\n",
            "las            \tel\n",
            "organizaciones \torganización\n",
            "analizan       \tanalizar\n",
            "información    \tinformación\n",
            ".              \t.\n",
            "\n",
            "              \t\n",
            "\n",
            "Algoritmos     \talgoritmos\n",
            "complejos      \tcomplejo\n",
            "permiten       \tpermitir\n",
            "automatizar    \tautomatizar\n",
            "procesos       \tproceso\n",
            "de             \tde\n",
            "recopilación   \trecopilación\n",
            ",              \t,\n",
            "limpieza       \tlimpieza\n",
            "y              \ty\n",
            "visualización  \tvisualización\n",
            "de             \tde\n",
            "datos          \tdato\n",
            "heterogéneos   \theterogéneo\n",
            ".              \t.\n",
            "\n",
            "              \t\n",
            "\n",
            "El             \tel\n",
            "aprendizaje    \taprendizaje\n",
            "automático     \tautomático\n",
            ",              \t,\n",
            "una            \tuno\n",
            "subdisciplina  \tsubdisciplina\n",
            "fundamental    \tfundamental\n",
            ",              \t,\n",
            "utiliza        \tutilizar\n",
            "modelos        \tmodelo\n",
            "estadísticos   \testadístico\n",
            "para           \tpara\n",
            "identificar    \tidentificar\n",
            "patrones       \tpatrón\n",
            ",              \t,\n",
            "\n",
            "              \t\n",
            "\n",
            "predecir       \tpredecir\n",
            "comportamientos\tcomportamiento\n",
            "y              \ty\n",
            "optimizar      \toptimizar\n",
            "decisiones     \tdecisión\n",
            "estratégicas   \testratégico\n",
            "con            \tcon\n",
            "eficiencia     \teficiencia\n",
            "y              \ty\n",
            "precisión      \tprecisión\n",
            ".              \t.\n",
            "\n",
            "              \t\n",
            "\n"
          ]
        }
      ]
    },
    {
      "cell_type": "markdown",
      "source": [
        "**Part-of-Speech (POS) Tagging (El Rol Gramatical)**\n",
        "\n",
        "Definición: Etiquetar cada palabra según su función gramatical (Sustantivo, Verbo, Adjetivo, etc.)."
      ],
      "metadata": {
        "id": "Jq9ph7b2WCe7"
      }
    },
    {
      "cell_type": "code",
      "source": [
        "print(\"PALABRA\\t\\tPOS\\t\\tEXPLICACIÓN\")\n",
        "print(\"-------\\t\\t---\\t\\t-----------\")\n",
        "for token in doc:\n",
        "    print(f\"{token.text:<15}\\t{token.pos_:<10}\\t{spacy.explain(token.pos_)}\")\n",
        "\n",
        "#🧠 ¿Qué es POS (Part-of-Speech)? El rol gramatical de una palabra en una oración: sustantivo, verbo, adjetivo, etc.\n",
        "# POS tagging: asigna una categoría gramatical a cada palabra.\n",
        "# Esto ayuda a entender la estructura sintáctica del texto.\n",
        "# Ejemplo: distinguir entre \"correr\" como verbo o como sustantivo.\n"
      ],
      "metadata": {
        "id": "M-io7IvJWCNH",
        "colab": {
          "base_uri": "https://localhost:8080/"
        },
        "outputId": "6589e8eb-2aa1-4d53-c95e-bf6e5f8b1901"
      },
      "execution_count": 19,
      "outputs": [
        {
          "output_type": "stream",
          "name": "stdout",
          "text": [
            "PALABRA\t\tPOS\t\tEXPLICACIÓN\n",
            "-------\t\t---\t\t-----------\n",
            "\n",
            "              \tSPACE     \tspace\n",
            "La             \tDET       \tdeterminer\n",
            "inteligencia   \tNOUN      \tnoun\n",
            "artificial     \tADJ       \tadjective\n",
            "transforma     \tVERB      \tverb\n",
            "radicalmente   \tADV       \tadverb\n",
            "la             \tDET       \tdeterminer\n",
            "manera         \tNOUN      \tnoun\n",
            "en             \tADP       \tadposition\n",
            "que            \tPRON      \tpronoun\n",
            "las            \tDET       \tdeterminer\n",
            "organizaciones \tNOUN      \tnoun\n",
            "analizan       \tVERB      \tverb\n",
            "información    \tNOUN      \tnoun\n",
            ".              \tPUNCT     \tpunctuation\n",
            "\n",
            "              \tSPACE     \tspace\n",
            "Algoritmos     \tVERB      \tverb\n",
            "complejos      \tNOUN      \tnoun\n",
            "permiten       \tVERB      \tverb\n",
            "automatizar    \tVERB      \tverb\n",
            "procesos       \tNOUN      \tnoun\n",
            "de             \tADP       \tadposition\n",
            "recopilación   \tNOUN      \tnoun\n",
            ",              \tPUNCT     \tpunctuation\n",
            "limpieza       \tNOUN      \tnoun\n",
            "y              \tCCONJ     \tcoordinating conjunction\n",
            "visualización  \tNOUN      \tnoun\n",
            "de             \tADP       \tadposition\n",
            "datos          \tNOUN      \tnoun\n",
            "heterogéneos   \tADJ       \tadjective\n",
            ".              \tPUNCT     \tpunctuation\n",
            "\n",
            "              \tSPACE     \tspace\n",
            "El             \tDET       \tdeterminer\n",
            "aprendizaje    \tNOUN      \tnoun\n",
            "automático     \tADJ       \tadjective\n",
            ",              \tPUNCT     \tpunctuation\n",
            "una            \tDET       \tdeterminer\n",
            "subdisciplina  \tNOUN      \tnoun\n",
            "fundamental    \tADJ       \tadjective\n",
            ",              \tPUNCT     \tpunctuation\n",
            "utiliza        \tVERB      \tverb\n",
            "modelos        \tNOUN      \tnoun\n",
            "estadísticos   \tADJ       \tadjective\n",
            "para           \tADP       \tadposition\n",
            "identificar    \tVERB      \tverb\n",
            "patrones       \tNOUN      \tnoun\n",
            ",              \tPUNCT     \tpunctuation\n",
            "\n",
            "              \tSPACE     \tspace\n",
            "predecir       \tVERB      \tverb\n",
            "comportamientos\tNOUN      \tnoun\n",
            "y              \tCCONJ     \tcoordinating conjunction\n",
            "optimizar      \tVERB      \tverb\n",
            "decisiones     \tNOUN      \tnoun\n",
            "estratégicas   \tADJ       \tadjective\n",
            "con            \tADP       \tadposition\n",
            "eficiencia     \tNOUN      \tnoun\n",
            "y              \tCCONJ     \tcoordinating conjunction\n",
            "precisión      \tNOUN      \tnoun\n",
            ".              \tPUNCT     \tpunctuation\n",
            "\n",
            "              \tSPACE     \tspace\n"
          ]
        }
      ]
    }
  ]
}